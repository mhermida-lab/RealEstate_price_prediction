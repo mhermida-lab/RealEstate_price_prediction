{
 "cells": [
  {
   "cell_type": "markdown",
   "metadata": {},
   "source": [
    "# Stage 1: Data ingestion and Data exploration"
   ]
  },
  {
   "cell_type": "markdown",
   "metadata": {},
   "source": [
    "The objective is to take the first steps in the process of data exploration using SQL, Python3 with Numpy, Pandas and Matplotlib libraries.\n",
    "\n",
    "I'll focus on analyzing some aspects of the real estate market of the City of Buenos Aires but for that I must first acquire the dataset from a BigQuery database."
   ]
  },
  {
   "cell_type": "markdown",
   "metadata": {},
   "source": [
    "# BigQuery data ingestion"
   ]
  },
  {
   "cell_type": "markdown",
   "metadata": {},
   "source": [
    "To access the database I use an username provided by the companyto access the BigQuery database they have in Gcloud platform.\n",
    "Once accessed the BigQuery database I do an exploratory analysis of the database composition.\n"
   ]
  },
  {
   "cell_type": "markdown",
   "metadata": {},
   "source": [
    "## The database: Datapoints contain publication of properties for sale or rent with the property specifications and price. This database contains data from many Latam countries each one with their own table."
   ]
  },
  {
   "cell_type": "markdown",
   "metadata": {},
   "source": [
    "\n",
    "### Raw features of the ar_properties table are:\n",
    "\n",
    "**id**: property id  \n",
    "**start_date:** date of first publication  \n",
    "**end_date:** end of publication  \n",
    "**created_on:** date of publication creation  \n",
    "**lat:** latitude of property location  \n",
    "**lon:** longitude of property location  \n",
    "**l1:** country  \n",
    "**l2:** Province  \n",
    "**l3:** City  \n",
    "**l4:** Neighborhood  \n",
    "**l5:** other location details  \n",
    "**l6:** other location details  \n",
    "**rooms:** how many total rooms  \n",
    "**bedrooms:** how many bedrooms  \n",
    "**bathrooms:** how many bathrooms  \n",
    "**surface_total:** surface total in square meters  \n",
    "**surface_covered:** surface covered in square meters (surface without counting balcony, courtyards and the likes)  \n",
    "**price:** total price  \n",
    "**currency:** currency in USD or ARS  \n",
    "**price_period:** payment pediod if renting  \n",
    "**title:** title of the publication  \n",
    "**description:** description of the property  \n",
    "**property_type:** property type  \n",
    "**operation_type:** for sale or for rent  \n",
    "\n",
    "For this project I will only use data from Argentina, more specificly from apartments in Buenos Aires City. For this purpouse I'm going to make a query filtering data to get only apartments from Buenos Aires City.\n"
   ]
  },
  {
   "cell_type": "markdown",
   "metadata": {},
   "source": [
    "### The query:"
   ]
  },
  {
   "cell_type": "markdown",
   "metadata": {},
   "source": [
    "## Importando las bibliotecas necesarias\n",
    "\n",
    "Para poder trabajar en la limpieza de datos y la visualización de nuestro dataset vamos a utilizar las bibliotecas numpy, pandas, matplotlib.pylab y seaborn. \n",
    "\n",
    "** 1) Importá ** cada una de ellas con los siguientes nombres: \n",
    "- **numpy** como **np**\n",
    "- **pandas** como **pd**\n",
    "- **matplotlib.pylab** como **plt**\n",
    "- **seaborn** como **sns**\n"
   ]
  },
  {
   "cell_type": "code",
   "execution_count": 1,
   "metadata": {},
   "outputs": [],
   "source": [
    "import numpy as np\n",
    "import pandas as pd\n",
    "import matplotlib.pylab as plt\n",
    "import seaborn as sns"
   ]
  },
  {
   "cell_type": "code",
   "execution_count": 2,
   "metadata": {},
   "outputs": [],
   "source": [
    "# La siguiente línea es para ver las imagenes dentro del notebook\n",
    "%matplotlib inline\n",
    "# Acá configuramos el tamaño de las figuras\n",
    "plt.rcParams['figure.figsize'] = (12,8)\n",
    "# Seteamos opciones de pandas sobre las columnas y su ancho\n",
    "pd.set_option('max_columns', 120)\n",
    "pd.set_option('max_colwidth', 5000)\n"
   ]
  },
  {
   "cell_type": "markdown",
   "metadata": {},
   "source": [
    "## Cargando dataset de propiedades\n",
    "\n",
    "**2) Cargá** el dataset que se encuentra en la carpeta *dataset/* y guardalo en una variable llamada **df**. \n",
    "No te olvides de utilizar **parse_dates** sobre la columna **created_on**\n"
   ]
  },
  {
   "cell_type": "code",
   "execution_count": 3,
   "metadata": {},
   "outputs": [],
   "source": [
    "df = pd.read_csv('./datos_properati.csv', parse_dates=['created_on'] )"
   ]
  },
  {
   "cell_type": "markdown",
   "metadata": {},
   "source": [
    "## Exploración de datos"
   ]
  },
  {
   "cell_type": "markdown",
   "metadata": {},
   "source": [
    "Lo primero que vamos a hacer es ver qué forma tiene el dataset que acabamos de cargar. Para eso vamos a mostrar las primeras 3 entradas del mismo y utilizar la propiedad `shape` para ver la cantidad de instancias y atributos con los que vamos a estar trabajando."
   ]
  },
  {
   "cell_type": "code",
   "execution_count": 4,
   "metadata": {},
   "outputs": [
    {
     "name": "stdout",
     "output_type": "stream",
     "text": [
      "(18979, 17)\n"
     ]
    },
    {
     "data": {
      "text/html": [
       "<div>\n",
       "<style scoped>\n",
       "    .dataframe tbody tr th:only-of-type {\n",
       "        vertical-align: middle;\n",
       "    }\n",
       "\n",
       "    .dataframe tbody tr th {\n",
       "        vertical-align: top;\n",
       "    }\n",
       "\n",
       "    .dataframe thead th {\n",
       "        text-align: right;\n",
       "    }\n",
       "</style>\n",
       "<table border=\"1\" class=\"dataframe\">\n",
       "  <thead>\n",
       "    <tr style=\"text-align: right;\">\n",
       "      <th></th>\n",
       "      <th>created_on</th>\n",
       "      <th>operation</th>\n",
       "      <th>property_type</th>\n",
       "      <th>place_with_parent_names</th>\n",
       "      <th>lat-lon</th>\n",
       "      <th>lat</th>\n",
       "      <th>lon</th>\n",
       "      <th>price_aprox_usd</th>\n",
       "      <th>surface_total_in_m2</th>\n",
       "      <th>surface_covered_in_m2</th>\n",
       "      <th>price_usd_per_m2</th>\n",
       "      <th>floor</th>\n",
       "      <th>rooms</th>\n",
       "      <th>expenses</th>\n",
       "      <th>properati_url</th>\n",
       "      <th>barrio</th>\n",
       "      <th>comuna</th>\n",
       "    </tr>\n",
       "  </thead>\n",
       "  <tbody>\n",
       "    <tr>\n",
       "      <th>0</th>\n",
       "      <td>2017-09-22</td>\n",
       "      <td>sell</td>\n",
       "      <td>house</td>\n",
       "      <td>|Argentina|Capital Federal|Palermo|Palermo Viejo|</td>\n",
       "      <td>-34.5889531469,-58.4298817776</td>\n",
       "      <td>-34.588953</td>\n",
       "      <td>-58.429882</td>\n",
       "      <td>2000000.0</td>\n",
       "      <td>312.0</td>\n",
       "      <td>NaN</td>\n",
       "      <td>6410.25641</td>\n",
       "      <td>NaN</td>\n",
       "      <td>NaN</td>\n",
       "      <td>NaN</td>\n",
       "      <td>https://www.properati.com.ar/2os_venta_casa_palermo-viejo_rent-ba</td>\n",
       "      <td>PALERMO</td>\n",
       "      <td>14.0</td>\n",
       "    </tr>\n",
       "    <tr>\n",
       "      <th>1</th>\n",
       "      <td>2017-08-01</td>\n",
       "      <td>sell</td>\n",
       "      <td>store</td>\n",
       "      <td>|Argentina|Capital Federal|Palermo|</td>\n",
       "      <td>-34.586069,-58.414431</td>\n",
       "      <td>-34.586069</td>\n",
       "      <td>-58.414431</td>\n",
       "      <td>790000.0</td>\n",
       "      <td>121.0</td>\n",
       "      <td>121.0</td>\n",
       "      <td>6528.92562</td>\n",
       "      <td>NaN</td>\n",
       "      <td>NaN</td>\n",
       "      <td>NaN</td>\n",
       "      <td>https://www.properati.com.ar/1cl7l_venta_local_palermo_santa-fe-av-al-3500_sotano_garage_subte-linea-d_deptos-temporarios</td>\n",
       "      <td>PALERMO</td>\n",
       "      <td>14.0</td>\n",
       "    </tr>\n",
       "    <tr>\n",
       "      <th>2</th>\n",
       "      <td>2017-08-02</td>\n",
       "      <td>sell</td>\n",
       "      <td>store</td>\n",
       "      <td>|Argentina|Capital Federal|Palermo|Palermo Soho|</td>\n",
       "      <td>-34.589723,-58.4325664</td>\n",
       "      <td>-34.589723</td>\n",
       "      <td>-58.432566</td>\n",
       "      <td>343000.0</td>\n",
       "      <td>122.0</td>\n",
       "      <td>108.0</td>\n",
       "      <td>2811.47541</td>\n",
       "      <td>NaN</td>\n",
       "      <td>2.0</td>\n",
       "      <td>NaN</td>\n",
       "      <td>https://www.properati.com.ar/1cm8w_venta_local_palermo-soho_cabrera-jose-a-_5000_jardin_lavadero_patio_piscina_toilette_garage_ojo-propiedades</td>\n",
       "      <td>PALERMO</td>\n",
       "      <td>14.0</td>\n",
       "    </tr>\n",
       "  </tbody>\n",
       "</table>\n",
       "</div>"
      ],
      "text/plain": [
       "  created_on operation property_type  \\\n",
       "0 2017-09-22      sell         house   \n",
       "1 2017-08-01      sell         store   \n",
       "2 2017-08-02      sell         store   \n",
       "\n",
       "                             place_with_parent_names  \\\n",
       "0  |Argentina|Capital Federal|Palermo|Palermo Viejo|   \n",
       "1                |Argentina|Capital Federal|Palermo|   \n",
       "2   |Argentina|Capital Federal|Palermo|Palermo Soho|   \n",
       "\n",
       "                         lat-lon        lat        lon  price_aprox_usd  \\\n",
       "0  -34.5889531469,-58.4298817776 -34.588953 -58.429882        2000000.0   \n",
       "1          -34.586069,-58.414431 -34.586069 -58.414431         790000.0   \n",
       "2         -34.589723,-58.4325664 -34.589723 -58.432566         343000.0   \n",
       "\n",
       "   surface_total_in_m2  surface_covered_in_m2  price_usd_per_m2  floor  rooms  \\\n",
       "0                312.0                    NaN        6410.25641    NaN    NaN   \n",
       "1                121.0                  121.0        6528.92562    NaN    NaN   \n",
       "2                122.0                  108.0        2811.47541    NaN    2.0   \n",
       "\n",
       "   expenses  \\\n",
       "0       NaN   \n",
       "1       NaN   \n",
       "2       NaN   \n",
       "\n",
       "                                                                                                                                    properati_url  \\\n",
       "0                                                                               https://www.properati.com.ar/2os_venta_casa_palermo-viejo_rent-ba   \n",
       "1                       https://www.properati.com.ar/1cl7l_venta_local_palermo_santa-fe-av-al-3500_sotano_garage_subte-linea-d_deptos-temporarios   \n",
       "2  https://www.properati.com.ar/1cm8w_venta_local_palermo-soho_cabrera-jose-a-_5000_jardin_lavadero_patio_piscina_toilette_garage_ojo-propiedades   \n",
       "\n",
       "    barrio  comuna  \n",
       "0  PALERMO    14.0  \n",
       "1  PALERMO    14.0  \n",
       "2  PALERMO    14.0  "
      ]
     },
     "execution_count": 4,
     "metadata": {},
     "output_type": "execute_result"
    }
   ],
   "source": [
    "print(df.shape)\n",
    "df.head(3)"
   ]
  },
  {
   "cell_type": "markdown",
   "metadata": {},
   "source": [
    "## El DF no tiene tantas columnas como indica el texto mas arriba. Tiene 17 y el texto indica 19."
   ]
  },
  {
   "cell_type": "markdown",
   "metadata": {},
   "source": [
    "## Categorías de propiedades\n",
    "En primer lugar vamos a ver qué categorías existen en el campo `property_type`. Y de esas categorías cuantos valores tenemos de cada uno.\n",
    "\n",
    "**3) Mostrá** las categorías de `property_type` y cuántas instancias hay de cada una.\n",
    "\n",
    "Recordá utilizar funciones del **dataframe** de pandas para realizar esto."
   ]
  },
  {
   "cell_type": "code",
   "execution_count": 5,
   "metadata": {},
   "outputs": [
    {
     "data": {
      "text/plain": [
       "apartment    14807\n",
       "house         1618\n",
       "PH            1463\n",
       "store         1091\n",
       "Name: property_type, dtype: int64"
      ]
     },
     "execution_count": 5,
     "metadata": {},
     "output_type": "execute_result"
    }
   ],
   "source": [
    "df['property_type'].value_counts()\n"
   ]
  },
  {
   "cell_type": "markdown",
   "metadata": {},
   "source": [
    "### Filtrando las categorías\n",
    "\n",
    "De las categorías existentes sólo queremos quedarnos con las que sean casas (house), departamentos (apartment) o PH (PH). \n",
    "\n",
    "Para esto, \n",
    "\n",
    "**4) filtrá** el `dataframe` original creando un **nuevo** `dataframe` llamado `df_filtered`. Este es el `dataframe` que seguirás usando a lo largo del análisis.\n"
   ]
  },
  {
   "cell_type": "code",
   "execution_count": 6,
   "metadata": {},
   "outputs": [
    {
     "data": {
      "text/plain": [
       "apartment    14807\n",
       "house         1618\n",
       "PH            1463\n",
       "Name: property_type, dtype: int64"
      ]
     },
     "execution_count": 6,
     "metadata": {},
     "output_type": "execute_result"
    }
   ],
   "source": [
    "filtrado = df['property_type'] != 'store'\n",
    "df_filtered = df[filtrado]\n",
    "df_filtered['property_type'].value_counts()"
   ]
  },
  {
   "cell_type": "markdown",
   "metadata": {},
   "source": [
    "### Visualizando las categorías\n",
    "**5)** Utilizando `seaborn` **creá un countplot** para visualizar las categorías de `df_filtered` en el campo `property_type` "
   ]
  },
  {
   "cell_type": "code",
   "execution_count": 7,
   "metadata": {},
   "outputs": [
    {
     "data": {
      "text/plain": [
       "<matplotlib.axes._subplots.AxesSubplot at 0x1e34ccd26d8>"
      ]
     },
     "execution_count": 7,
     "metadata": {},
     "output_type": "execute_result"
    },
    {
     "data": {
      "image/png": "[encoded data removed]",
      "text/plain": [
       "<Figure size 864x576 with 1 Axes>"
      ]
     },
     "metadata": {
      "needs_background": "light"
     },
     "output_type": "display_data"
    }
   ],
   "source": [
    "sns.countplot(x= df_filtered['property_type'])"
   ]
  },
  {
   "cell_type": "markdown",
   "metadata": {},
   "source": [
    "## Valores Faltantes"
   ]
  },
  {
   "cell_type": "markdown",
   "metadata": {},
   "source": [
    "Vamos a querer descartar aquellas instancias que tengan valores nulos en columnas importantes para el análisis del mercado.\n",
    "Estas columnas son las que informan **superficie (total o cubierta)**, **cantidad de ambientes**, **precio** y **precio por metro cuadrado**.\n",
    "\n",
    "**6) Quitá** del `dataframe` las instancias que no tengan ningún valor en los campos nombrados."
   ]
  },
  {
   "cell_type": "code",
   "execution_count": 8,
   "metadata": {},
   "outputs": [],
   "source": [
    "df_filtered_predropna = df_filtered"
   ]
  },
  {
   "cell_type": "code",
   "execution_count": 9,
   "metadata": {},
   "outputs": [],
   "source": [
    "df_filtered = df_filtered.dropna(subset=['surface_total_in_m2','surface_covered_in_m2','rooms','price_aprox_usd','price_usd_per_m2'])\n"
   ]
  },
  {
   "cell_type": "markdown",
   "metadata": {},
   "source": [
    "**7)** A continuación **mostrá** cuantas instancias son las que descartaste a partir de quitar las que tenían valores nulos."
   ]
  },
  {
   "cell_type": "code",
   "execution_count": 10,
   "metadata": {},
   "outputs": [
    {
     "data": {
      "text/plain": [
       "5913"
      ]
     },
     "execution_count": 10,
     "metadata": {},
     "output_type": "execute_result"
    }
   ],
   "source": [
    "df_filtered_predropna[['surface_total_in_m2','surface_covered_in_m2','rooms','price_aprox_usd','price_usd_per_m2']].isnull().any(axis=1).sum()"
   ]
  },
  {
   "cell_type": "markdown",
   "metadata": {},
   "source": [
    "Posiblemente existan otros atributos con valores faltantes en el dataset, pero que no son de tanta importancia. \n",
    "\n",
    "**8) Mostrá** qué otros atributos tienen valores faltantes en el `dataframe`."
   ]
  },
  {
   "cell_type": "code",
   "execution_count": 1,
   "metadata": {},
   "outputs": [
    {
     "ename": "NameError",
     "evalue": "name 'df_filtered' is not defined",
     "output_type": "error",
     "traceback": [
      "\u001b[1;31m---------------------------------------------------------------------------\u001b[0m",
      "\u001b[1;31mNameError\u001b[0m                                 Traceback (most recent call last)",
      "\u001b[1;32m<ipython-input-1-d0cd7c88a45f>\u001b[0m in \u001b[0;36m<module>\u001b[1;34m\u001b[0m\n\u001b[1;32m----> 1\u001b[1;33m \u001b[0motros_nan\u001b[0m \u001b[1;33m=\u001b[0m \u001b[0mdf_filtered\u001b[0m\u001b[1;33m.\u001b[0m\u001b[0mloc\u001b[0m\u001b[1;33m[\u001b[0m\u001b[1;33m:\u001b[0m\u001b[1;33m,\u001b[0m\u001b[0mdf_filtered\u001b[0m\u001b[1;33m.\u001b[0m\u001b[0misna\u001b[0m\u001b[1;33m(\u001b[0m\u001b[1;33m)\u001b[0m\u001b[1;33m.\u001b[0m\u001b[0many\u001b[0m\u001b[1;33m(\u001b[0m\u001b[1;33m)\u001b[0m\u001b[1;33m]\u001b[0m\u001b[1;33m\u001b[0m\u001b[1;33m\u001b[0m\u001b[0m\n\u001b[0m\u001b[0;32m      2\u001b[0m \u001b[0motros_nan\u001b[0m\u001b[1;33m\u001b[0m\u001b[1;33m\u001b[0m\u001b[0m\n",
      "\u001b[1;31mNameError\u001b[0m: name 'df_filtered' is not defined"
     ]
    }
   ],
   "source": [
    "otros_nan = df_filtered.loc[:,df_filtered.isna().any()]\n",
    "otros_nan"
   ]
  },
  {
   "cell_type": "markdown",
   "metadata": {},
   "source": [
    "#### Desafío: planteá alguna estrategia posible para reemplazar los valores faltantes en el atributo `surface_total_in_m2`."
   ]
  },
  {
   "cell_type": "markdown",
   "metadata": {},
   "source": [
    "## Datos erróneos"
   ]
  },
  {
   "cell_type": "markdown",
   "metadata": {},
   "source": [
    "El siguiente paso es analizar errores que puede llegar a haber en el dataset. \n",
    "\n",
    "Por ejemplo, la **superficie total no puede ser menor que la cubierta**. Si esto sucede, podemos optar por eliminar esas filas o intentar corregir el problema. Veamos en primer lugar si esto sucede.\n",
    "\n",
    "**9) Mostrá** cuantas instancias existen que tengan el problema de este dato erróneo y guardalas en una variable llamada `wrong_surface_rows`"
   ]
  },
  {
   "cell_type": "code",
   "execution_count": 37,
   "metadata": {},
   "outputs": [
    {
     "data": {
      "text/html": [
       "<div>\n",
       "<style scoped>\n",
       "    .dataframe tbody tr th:only-of-type {\n",
       "        vertical-align: middle;\n",
       "    }\n",
       "\n",
       "    .dataframe tbody tr th {\n",
       "        vertical-align: top;\n",
       "    }\n",
       "\n",
       "    .dataframe thead th {\n",
       "        text-align: right;\n",
       "    }\n",
       "</style>\n",
       "<table border=\"1\" class=\"dataframe\">\n",
       "  <thead>\n",
       "    <tr style=\"text-align: right;\">\n",
       "      <th></th>\n",
       "      <th>created_on</th>\n",
       "      <th>operation</th>\n",
       "      <th>property_type</th>\n",
       "      <th>place_with_parent_names</th>\n",
       "      <th>lat-lon</th>\n",
       "      <th>lat</th>\n",
       "      <th>lon</th>\n",
       "      <th>price_aprox_usd</th>\n",
       "      <th>surface_total_in_m2</th>\n",
       "      <th>surface_covered_in_m2</th>\n",
       "      <th>price_usd_per_m2</th>\n",
       "      <th>floor</th>\n",
       "      <th>rooms</th>\n",
       "      <th>expenses</th>\n",
       "      <th>properati_url</th>\n",
       "      <th>barrio</th>\n",
       "      <th>comuna</th>\n",
       "    </tr>\n",
       "  </thead>\n",
       "  <tbody>\n",
       "    <tr>\n",
       "      <th>106</th>\n",
       "      <td>2017-09-07</td>\n",
       "      <td>sell</td>\n",
       "      <td>house</td>\n",
       "      <td>|Argentina|Capital Federal|Belgrano|</td>\n",
       "      <td>-34.566867,-58.444197</td>\n",
       "      <td>-34.566867</td>\n",
       "      <td>-58.444197</td>\n",
       "      <td>1650000.00</td>\n",
       "      <td>455.0</td>\n",
       "      <td>456.0</td>\n",
       "      <td>3626.373626</td>\n",
       "      <td>NaN</td>\n",
       "      <td>5.0</td>\n",
       "      <td>NaN</td>\n",
       "      <td>https://www.properati.com.ar/1ehbq_venta_casa_belgrano_suite_gimnasio_hidromasaje_jardin_lavadero_parrilla_patio_quincho_terraza_toilette_vestidor_luminoso_lujoso_garage_impecable_subte-linea-d_re-max-win</td>\n",
       "      <td>PALERMO</td>\n",
       "      <td>14.0</td>\n",
       "    </tr>\n",
       "    <tr>\n",
       "      <th>153</th>\n",
       "      <td>2017-09-12</td>\n",
       "      <td>sell</td>\n",
       "      <td>apartment</td>\n",
       "      <td>|Argentina|Capital Federal|Palermo|</td>\n",
       "      <td>-34.5830704,-58.4241896</td>\n",
       "      <td>-34.583070</td>\n",
       "      <td>-58.424190</td>\n",
       "      <td>140000.00</td>\n",
       "      <td>39.0</td>\n",
       "      <td>44.0</td>\n",
       "      <td>3589.743590</td>\n",
       "      <td>NaN</td>\n",
       "      <td>1.0</td>\n",
       "      <td>NaN</td>\n",
       "      <td>https://www.properati.com.ar/1en9l_venta_departamento_palermo_luminoso_estrenar_subte-linea-d_mavia-propiedades</td>\n",
       "      <td>PALERMO</td>\n",
       "      <td>14.0</td>\n",
       "    </tr>\n",
       "    <tr>\n",
       "      <th>935</th>\n",
       "      <td>2017-11-06</td>\n",
       "      <td>sell</td>\n",
       "      <td>apartment</td>\n",
       "      <td>|Argentina|Capital Federal|Palermo|</td>\n",
       "      <td>-34.5869532,-58.4189032</td>\n",
       "      <td>-34.586953</td>\n",
       "      <td>-58.418903</td>\n",
       "      <td>275000.00</td>\n",
       "      <td>13.0</td>\n",
       "      <td>79.0</td>\n",
       "      <td>21153.846154</td>\n",
       "      <td>1.0</td>\n",
       "      <td>4.0</td>\n",
       "      <td>NaN</td>\n",
       "      <td>https://www.properati.com.ar/1htrv_venta_departamento_palermo_scalabrini-ortiz-av-r-_2300_baulera_patio_toilette_dependencias_garage_bengochea-propiedades</td>\n",
       "      <td>PALERMO</td>\n",
       "      <td>14.0</td>\n",
       "    </tr>\n",
       "    <tr>\n",
       "      <th>1174</th>\n",
       "      <td>2017-11-22</td>\n",
       "      <td>sell</td>\n",
       "      <td>house</td>\n",
       "      <td>|Argentina|Capital Federal|Palermo|</td>\n",
       "      <td>-34.583652,-58.444111</td>\n",
       "      <td>-34.583652</td>\n",
       "      <td>-58.444111</td>\n",
       "      <td>930000.00</td>\n",
       "      <td>205.0</td>\n",
       "      <td>343.0</td>\n",
       "      <td>4536.585366</td>\n",
       "      <td>NaN</td>\n",
       "      <td>5.0</td>\n",
       "      <td>NaN</td>\n",
       "      <td>https://www.properati.com.ar/1ibt5_venta_casa_palermo_balcon_lavadero_parrilla_patio_terraza_garage_re-max-total-iv</td>\n",
       "      <td>PALERMO</td>\n",
       "      <td>14.0</td>\n",
       "    </tr>\n",
       "    <tr>\n",
       "      <th>1176</th>\n",
       "      <td>2017-11-22</td>\n",
       "      <td>sell</td>\n",
       "      <td>apartment</td>\n",
       "      <td>|Argentina|Capital Federal|Palermo|</td>\n",
       "      <td>-34.5821555519,-58.4230147059</td>\n",
       "      <td>-34.582156</td>\n",
       "      <td>-58.423015</td>\n",
       "      <td>297109.32</td>\n",
       "      <td>117.0</td>\n",
       "      <td>745.0</td>\n",
       "      <td>2539.395897</td>\n",
       "      <td>7.0</td>\n",
       "      <td>2.0</td>\n",
       "      <td>NaN</td>\n",
       "      <td>https://www.properati.com.ar/1ibu1_venta_departamento_palermo_thames_2400_subte-linea-d_narvaez-cia-walter-fabian-narvaez-csi-4169</td>\n",
       "      <td>PALERMO</td>\n",
       "      <td>14.0</td>\n",
       "    </tr>\n",
       "    <tr>\n",
       "      <th>1317</th>\n",
       "      <td>2017-12-05</td>\n",
       "      <td>sell</td>\n",
       "      <td>apartment</td>\n",
       "      <td>|Argentina|Capital Federal|Palermo|</td>\n",
       "      <td>-34.583175,-58.421452</td>\n",
       "      <td>-34.583175</td>\n",
       "      <td>-58.421452</td>\n",
       "      <td>154000.00</td>\n",
       "      <td>55.0</td>\n",
       "      <td>56.0</td>\n",
       "      <td>2800.000000</td>\n",
       "      <td>1.0</td>\n",
       "      <td>3.0</td>\n",
       "      <td>NaN</td>\n",
       "      <td>https://www.properati.com.ar/1ila0_venta_departamento_palermo_baulera_lavadero_toilette_luminoso_garage_subte-linea-d_re-max-ra-iacute-ces</td>\n",
       "      <td>PALERMO</td>\n",
       "      <td>14.0</td>\n",
       "    </tr>\n",
       "    <tr>\n",
       "      <th>1547</th>\n",
       "      <td>2017-12-18</td>\n",
       "      <td>sell</td>\n",
       "      <td>apartment</td>\n",
       "      <td>|Argentina|Capital Federal|Palermo|</td>\n",
       "      <td>-34.596423,-58.422257</td>\n",
       "      <td>-34.596423</td>\n",
       "      <td>-58.422257</td>\n",
       "      <td>151500.00</td>\n",
       "      <td>50.0</td>\n",
       "      <td>4556.0</td>\n",
       "      <td>3030.000000</td>\n",
       "      <td>4.0</td>\n",
       "      <td>2.0</td>\n",
       "      <td>NaN</td>\n",
       "      <td>https://www.properati.com.ar/1j2e5_venta_departamento_palermo_gimnasio_lavadero_parrilla_piscina_sum_sauna_garage_subte-linea-b_re-max-total-ii</td>\n",
       "      <td>PALERMO</td>\n",
       "      <td>14.0</td>\n",
       "    </tr>\n",
       "    <tr>\n",
       "      <th>2300</th>\n",
       "      <td>2018-01-31</td>\n",
       "      <td>sell</td>\n",
       "      <td>apartment</td>\n",
       "      <td>|Argentina|Capital Federal|Palermo|</td>\n",
       "      <td>-34.5673864513,-58.4321862422</td>\n",
       "      <td>-34.567386</td>\n",
       "      <td>-58.432186</td>\n",
       "      <td>330000.00</td>\n",
       "      <td>95.0</td>\n",
       "      <td>100.0</td>\n",
       "      <td>3473.684211</td>\n",
       "      <td>3.0</td>\n",
       "      <td>3.0</td>\n",
       "      <td>NaN</td>\n",
       "      <td>https://www.properati.com.ar/1k9zk_venta_departamento_palermo_san-benito-de-palermo_1600_balcon_lavadero_luminoso_dependencias_placard_doble-circulacion_podesta-castro-propiedades</td>\n",
       "      <td>PALERMO</td>\n",
       "      <td>14.0</td>\n",
       "    </tr>\n",
       "    <tr>\n",
       "      <th>2314</th>\n",
       "      <td>2018-01-31</td>\n",
       "      <td>sell</td>\n",
       "      <td>apartment</td>\n",
       "      <td>|Argentina|Capital Federal|Palermo|</td>\n",
       "      <td>-34.5860312,-58.419436</td>\n",
       "      <td>-34.586031</td>\n",
       "      <td>-58.419436</td>\n",
       "      <td>140000.00</td>\n",
       "      <td>55.0</td>\n",
       "      <td>56.0</td>\n",
       "      <td>2545.454545</td>\n",
       "      <td>NaN</td>\n",
       "      <td>3.0</td>\n",
       "      <td>1500.0</td>\n",
       "      <td>https://www.properati.com.ar/1kbgk_venta_departamento_palermo_subte-linea-d_birabel-bienes-raices</td>\n",
       "      <td>PALERMO</td>\n",
       "      <td>14.0</td>\n",
       "    </tr>\n",
       "    <tr>\n",
       "      <th>4961</th>\n",
       "      <td>2017-12-05</td>\n",
       "      <td>sell</td>\n",
       "      <td>apartment</td>\n",
       "      <td>|Argentina|Capital Federal|Once|</td>\n",
       "      <td>-34.601159,-58.398106</td>\n",
       "      <td>-34.601159</td>\n",
       "      <td>-58.398106</td>\n",
       "      <td>88604.07</td>\n",
       "      <td>33.0</td>\n",
       "      <td>295.0</td>\n",
       "      <td>2684.971818</td>\n",
       "      <td>NaN</td>\n",
       "      <td>1.0</td>\n",
       "      <td>NaN</td>\n",
       "      <td>https://www.properati.com.ar/1il1e_venta_departamento_once_balcon_lavadero_parrilla_electrogeno_aire-acondicionado_subte-linea-d_subte-linea-b_subte-linea-h_re-max-uno</td>\n",
       "      <td>BALVANERA</td>\n",
       "      <td>3.0</td>\n",
       "    </tr>\n",
       "    <tr>\n",
       "      <th>5012</th>\n",
       "      <td>2017-12-06</td>\n",
       "      <td>sell</td>\n",
       "      <td>apartment</td>\n",
       "      <td>|Argentina|Capital Federal|Abasto|</td>\n",
       "      <td>-34.601013,-58.409113</td>\n",
       "      <td>-34.601013</td>\n",
       "      <td>-58.409113</td>\n",
       "      <td>235000.00</td>\n",
       "      <td>162.0</td>\n",
       "      <td>185.0</td>\n",
       "      <td>1450.617284</td>\n",
       "      <td>NaN</td>\n",
       "      <td>4.0</td>\n",
       "      <td>6000.0</td>\n",
       "      <td>https://www.properati.com.ar/1iswf_venta_departamento_abasto_balcon_baulera_lavadero_patio_terraza_dependencias_subte-linea-b_subte-linea-h_gruz-propiedades_gka</td>\n",
       "      <td>BALVANERA</td>\n",
       "      <td>3.0</td>\n",
       "    </tr>\n",
       "    <tr>\n",
       "      <th>5091</th>\n",
       "      <td>2017-12-31</td>\n",
       "      <td>sell</td>\n",
       "      <td>apartment</td>\n",
       "      <td>|Argentina|Capital Federal|Balvanera|</td>\n",
       "      <td>-34.600699,-58.407655</td>\n",
       "      <td>-34.600699</td>\n",
       "      <td>-58.407655</td>\n",
       "      <td>53000.00</td>\n",
       "      <td>19.0</td>\n",
       "      <td>20.0</td>\n",
       "      <td>2789.473684</td>\n",
       "      <td>NaN</td>\n",
       "      <td>1.0</td>\n",
       "      <td>NaN</td>\n",
       "      <td>https://www.properati.com.ar/1jalb_venta_departamento_balvanera_luminoso_subte-linea-b_subte-linea-h_re-max-destino</td>\n",
       "      <td>BALVANERA</td>\n",
       "      <td>3.0</td>\n",
       "    </tr>\n",
       "    <tr>\n",
       "      <th>5349</th>\n",
       "      <td>2018-01-24</td>\n",
       "      <td>sell</td>\n",
       "      <td>apartment</td>\n",
       "      <td>|Argentina|Capital Federal|Balvanera|</td>\n",
       "      <td>-34.6125172,-58.3948187</td>\n",
       "      <td>-34.612517</td>\n",
       "      <td>-58.394819</td>\n",
       "      <td>68500.00</td>\n",
       "      <td>27.0</td>\n",
       "      <td>30.0</td>\n",
       "      <td>2537.037037</td>\n",
       "      <td>NaN</td>\n",
       "      <td>2.0</td>\n",
       "      <td>1000.0</td>\n",
       "      <td>https://www.properati.com.ar/1k22b_venta_departamento_balvanera_lavadero_luminoso_subte-linea-a_apto-credito-hipotecario_predial-propiedades_c3a</td>\n",
       "      <td>BALVANERA</td>\n",
       "      <td>3.0</td>\n",
       "    </tr>\n",
       "    <tr>\n",
       "      <th>5800</th>\n",
       "      <td>2018-01-18</td>\n",
       "      <td>sell</td>\n",
       "      <td>apartment</td>\n",
       "      <td>|Argentina|Capital Federal|Monserrat|</td>\n",
       "      <td>-34.610306,-58.3777</td>\n",
       "      <td>-34.610306</td>\n",
       "      <td>-58.377700</td>\n",
       "      <td>196000.00</td>\n",
       "      <td>130.0</td>\n",
       "      <td>131.0</td>\n",
       "      <td>1507.692308</td>\n",
       "      <td>NaN</td>\n",
       "      <td>7.0</td>\n",
       "      <td>NaN</td>\n",
       "      <td>https://www.properati.com.ar/1jnvu_venta_departamento_monserrat_toilette_luminoso_garage_subte-linea-d_subte-linea-b_subte-linea-a_subte-linea-e_subte-linea-c_re-max-del-plata</td>\n",
       "      <td>MONSERRAT</td>\n",
       "      <td>1.0</td>\n",
       "    </tr>\n",
       "    <tr>\n",
       "      <th>5867</th>\n",
       "      <td>2018-01-27</td>\n",
       "      <td>sell</td>\n",
       "      <td>apartment</td>\n",
       "      <td>|Argentina|Capital Federal|Balvanera|</td>\n",
       "      <td>-34.6156047978,-58.3915648715</td>\n",
       "      <td>-34.615605</td>\n",
       "      <td>-58.391565</td>\n",
       "      <td>134800.00</td>\n",
       "      <td>50.0</td>\n",
       "      <td>147.0</td>\n",
       "      <td>2696.000000</td>\n",
       "      <td>NaN</td>\n",
       "      <td>2.0</td>\n",
       "      <td>NaN</td>\n",
       "      <td>https://www.properati.com.ar/1k63k_venta_departamento_balvanera_entre-rios-av-_600_balcon_luminoso_placard_aire-acondicionado_subte-linea-a_subte-linea-e_re-max-total-v</td>\n",
       "      <td>MONSERRAT</td>\n",
       "      <td>1.0</td>\n",
       "    </tr>\n",
       "    <tr>\n",
       "      <th>5942</th>\n",
       "      <td>2017-09-06</td>\n",
       "      <td>sell</td>\n",
       "      <td>house</td>\n",
       "      <td>|Argentina|Capital Federal|Villa Crespo|</td>\n",
       "      <td>-34.6019462,-58.4511617</td>\n",
       "      <td>-34.601946</td>\n",
       "      <td>-58.451162</td>\n",
       "      <td>549000.00</td>\n",
       "      <td>350.0</td>\n",
       "      <td>355.0</td>\n",
       "      <td>1568.571429</td>\n",
       "      <td>NaN</td>\n",
       "      <td>6.0</td>\n",
       "      <td>NaN</td>\n",
       "      <td>https://www.properati.com.ar/1ed07_venta_casa_villa-crespo_belaustegui-luis-dr-_500_suite_jardin_lavadero_parrilla_piscina_toilette_vestidor_lexinton-propiedades_937</td>\n",
       "      <td>VILLA CRESPO</td>\n",
       "      <td>15.0</td>\n",
       "    </tr>\n",
       "    <tr>\n",
       "      <th>6297</th>\n",
       "      <td>2017-12-05</td>\n",
       "      <td>sell</td>\n",
       "      <td>house</td>\n",
       "      <td>|Argentina|Capital Federal|Villa Crespo|</td>\n",
       "      <td>-34.602673,-58.451788</td>\n",
       "      <td>-34.602673</td>\n",
       "      <td>-58.451788</td>\n",
       "      <td>350000.00</td>\n",
       "      <td>228.0</td>\n",
       "      <td>350.0</td>\n",
       "      <td>1535.087719</td>\n",
       "      <td>NaN</td>\n",
       "      <td>10.0</td>\n",
       "      <td>NaN</td>\n",
       "      <td>https://www.properati.com.ar/1il2r_venta_casa_villa-crespo_jardin_re-max-data-house</td>\n",
       "      <td>VILLA CRESPO</td>\n",
       "      <td>15.0</td>\n",
       "    </tr>\n",
       "    <tr>\n",
       "      <th>6373</th>\n",
       "      <td>2017-12-22</td>\n",
       "      <td>sell</td>\n",
       "      <td>apartment</td>\n",
       "      <td>|Argentina|Capital Federal|Caballito|</td>\n",
       "      <td>-34.605237,-58.455291</td>\n",
       "      <td>-34.605237</td>\n",
       "      <td>-58.455291</td>\n",
       "      <td>89500.00</td>\n",
       "      <td>32.0</td>\n",
       "      <td>33.0</td>\n",
       "      <td>2796.875000</td>\n",
       "      <td>NaN</td>\n",
       "      <td>1.0</td>\n",
       "      <td>NaN</td>\n",
       "      <td>https://www.properati.com.ar/1j6yy_venta_departamento_caballito_gimnasio_piscina_luminoso_sauna_amenities_re-max-time</td>\n",
       "      <td>VILLA CRESPO</td>\n",
       "      <td>15.0</td>\n",
       "    </tr>\n",
       "    <tr>\n",
       "      <th>6519</th>\n",
       "      <td>2018-01-21</td>\n",
       "      <td>sell</td>\n",
       "      <td>apartment</td>\n",
       "      <td>|Argentina|Capital Federal|Villa Crespo|</td>\n",
       "      <td>-34.5963659942,-58.4464294929</td>\n",
       "      <td>-34.596366</td>\n",
       "      <td>-58.446429</td>\n",
       "      <td>198900.00</td>\n",
       "      <td>80.0</td>\n",
       "      <td>7475.0</td>\n",
       "      <td>2486.250000</td>\n",
       "      <td>4.0</td>\n",
       "      <td>4.0</td>\n",
       "      <td>NaN</td>\n",
       "      <td>https://www.properati.com.ar/1k0zl_venta_departamento_villa-crespo_justo-juan-b-av-_2800_balcon_baulera_lavadero_toilette_garage_subte-linea-b_re-max-premium</td>\n",
       "      <td>VILLA CRESPO</td>\n",
       "      <td>15.0</td>\n",
       "    </tr>\n",
       "    <tr>\n",
       "      <th>6797</th>\n",
       "      <td>2017-12-13</td>\n",
       "      <td>sell</td>\n",
       "      <td>PH</td>\n",
       "      <td>|Argentina|Capital Federal|Liniers|</td>\n",
       "      <td>-34.638822,-58.516273</td>\n",
       "      <td>-34.638822</td>\n",
       "      <td>-58.516273</td>\n",
       "      <td>160000.00</td>\n",
       "      <td>116.0</td>\n",
       "      <td>212.0</td>\n",
       "      <td>1379.310345</td>\n",
       "      <td>NaN</td>\n",
       "      <td>5.0</td>\n",
       "      <td>NaN</td>\n",
       "      <td>https://www.properati.com.ar/1iylv_venta_ph_villa-luro_balcon_suite_terraza_luminoso_re-max-platino</td>\n",
       "      <td>LINIERS</td>\n",
       "      <td>9.0</td>\n",
       "    </tr>\n",
       "    <tr>\n",
       "      <th>6799</th>\n",
       "      <td>2017-12-15</td>\n",
       "      <td>sell</td>\n",
       "      <td>house</td>\n",
       "      <td>|Argentina|Capital Federal|Liniers|</td>\n",
       "      <td>-34.6467129,-58.5286524</td>\n",
       "      <td>-34.646713</td>\n",
       "      <td>-58.528652</td>\n",
       "      <td>330000.00</td>\n",
       "      <td>182.0</td>\n",
       "      <td>196.0</td>\n",
       "      <td>1813.186813</td>\n",
       "      <td>NaN</td>\n",
       "      <td>5.0</td>\n",
       "      <td>NaN</td>\n",
       "      <td>https://www.properati.com.ar/1j16v_venta_casa_liniers_patio_garage_nole-propiedades_cbd</td>\n",
       "      <td>LINIERS</td>\n",
       "      <td>9.0</td>\n",
       "    </tr>\n",
       "    <tr>\n",
       "      <th>6806</th>\n",
       "      <td>2017-12-26</td>\n",
       "      <td>sell</td>\n",
       "      <td>house</td>\n",
       "      <td>|Argentina|Capital Federal|Liniers|</td>\n",
       "      <td>-34.646191,-58.5212109</td>\n",
       "      <td>-34.646191</td>\n",
       "      <td>-58.521211</td>\n",
       "      <td>290000.00</td>\n",
       "      <td>114.0</td>\n",
       "      <td>169.0</td>\n",
       "      <td>2543.859649</td>\n",
       "      <td>NaN</td>\n",
       "      <td>4.0</td>\n",
       "      <td>NaN</td>\n",
       "      <td>https://www.properati.com.ar/1j8vh_venta_casa_liniers_baulera_parrilla_patio_quincho_terraza_toilette_vestidor_garage_impecable_gustavo-vega-compromiso-inmobiliario_gle</td>\n",
       "      <td>LINIERS</td>\n",
       "      <td>9.0</td>\n",
       "    </tr>\n",
       "    <tr>\n",
       "      <th>6846</th>\n",
       "      <td>2018-01-09</td>\n",
       "      <td>sell</td>\n",
       "      <td>apartment</td>\n",
       "      <td>|Argentina|Capital Federal|Versalles|</td>\n",
       "      <td>-34.63315201,-58.51760864</td>\n",
       "      <td>-34.633152</td>\n",
       "      <td>-58.517609</td>\n",
       "      <td>95000.00</td>\n",
       "      <td>52.0</td>\n",
       "      <td>60.0</td>\n",
       "      <td>1826.923077</td>\n",
       "      <td>NaN</td>\n",
       "      <td>2.0</td>\n",
       "      <td>NaN</td>\n",
       "      <td>https://www.properati.com.ar/1jhfo_venta_departamento_versalles_juan-b-justo_9100_lavadero_amoblado_apto-credito-hipotecario_magnacca-e-m-inmobiliaria</td>\n",
       "      <td>LINIERS</td>\n",
       "      <td>9.0</td>\n",
       "    </tr>\n",
       "    <tr>\n",
       "      <th>6969</th>\n",
       "      <td>2018-01-31</td>\n",
       "      <td>sell</td>\n",
       "      <td>apartment</td>\n",
       "      <td>|Argentina|Capital Federal|Liniers|</td>\n",
       "      <td>-34.6411441,-58.5140068</td>\n",
       "      <td>-34.641144</td>\n",
       "      <td>-58.514007</td>\n",
       "      <td>235000.00</td>\n",
       "      <td>21.0</td>\n",
       "      <td>150.0</td>\n",
       "      <td>11190.476190</td>\n",
       "      <td>NaN</td>\n",
       "      <td>4.0</td>\n",
       "      <td>NaN</td>\n",
       "      <td>https://www.properati.com.ar/1ke9t_venta_departamento_liniers_balcon_lavadero_patio_terraza_toilette_garage_placard_niro-brokers</td>\n",
       "      <td>LINIERS</td>\n",
       "      <td>9.0</td>\n",
       "    </tr>\n",
       "    <tr>\n",
       "      <th>7289</th>\n",
       "      <td>2017-10-29</td>\n",
       "      <td>sell</td>\n",
       "      <td>apartment</td>\n",
       "      <td>|Argentina|Capital Federal|San Nicolás|</td>\n",
       "      <td>-34.60536,-58.38418</td>\n",
       "      <td>-34.605360</td>\n",
       "      <td>-58.384180</td>\n",
       "      <td>66000.00</td>\n",
       "      <td>32.0</td>\n",
       "      <td>33.0</td>\n",
       "      <td>2062.500000</td>\n",
       "      <td>NaN</td>\n",
       "      <td>2.0</td>\n",
       "      <td>NaN</td>\n",
       "      <td>https://www.properati.com.ar/1hlhw_venta_departamento_san-nicolas_subte-linea-d_subte-linea-b_subte-linea-a_subte-linea-c_re-max-plaza</td>\n",
       "      <td>SAN NICOLAS</td>\n",
       "      <td>1.0</td>\n",
       "    </tr>\n",
       "    <tr>\n",
       "      <th>7310</th>\n",
       "      <td>2017-11-05</td>\n",
       "      <td>sell</td>\n",
       "      <td>apartment</td>\n",
       "      <td>|Argentina|Capital Federal|San Nicolás|</td>\n",
       "      <td>-34.601809,-58.390744</td>\n",
       "      <td>-34.601809</td>\n",
       "      <td>-58.390744</td>\n",
       "      <td>119500.00</td>\n",
       "      <td>54.0</td>\n",
       "      <td>55.0</td>\n",
       "      <td>2212.962963</td>\n",
       "      <td>2.0</td>\n",
       "      <td>3.0</td>\n",
       "      <td>NaN</td>\n",
       "      <td>https://www.properati.com.ar/1hte4_venta_departamento_san-nicolas_lavadero_luminoso_subte-linea-d_subte-linea-b_re-max-classic</td>\n",
       "      <td>SAN NICOLAS</td>\n",
       "      <td>1.0</td>\n",
       "    </tr>\n",
       "    <tr>\n",
       "      <th>7676</th>\n",
       "      <td>2017-09-16</td>\n",
       "      <td>sell</td>\n",
       "      <td>house</td>\n",
       "      <td>|Argentina|Capital Federal|Agronomía|</td>\n",
       "      <td>-34.589358,-58.488743</td>\n",
       "      <td>-34.589358</td>\n",
       "      <td>-58.488743</td>\n",
       "      <td>495000.00</td>\n",
       "      <td>263.0</td>\n",
       "      <td>302.0</td>\n",
       "      <td>1882.129278</td>\n",
       "      <td>NaN</td>\n",
       "      <td>6.0</td>\n",
       "      <td>NaN</td>\n",
       "      <td>https://www.properati.com.ar/1ewt3_venta_casa_agronomia_suite_jardin_lavadero_parrilla_piscina_quincho_toilette_luminoso_lujoso_garage_re-max-platino</td>\n",
       "      <td>AGRONOMIA</td>\n",
       "      <td>15.0</td>\n",
       "    </tr>\n",
       "    <tr>\n",
       "      <th>7736</th>\n",
       "      <td>2018-01-23</td>\n",
       "      <td>sell</td>\n",
       "      <td>apartment</td>\n",
       "      <td>|Argentina|Capital Federal|Villa Pueyrredón|</td>\n",
       "      <td>-34.5900008,-58.4899729</td>\n",
       "      <td>-34.590001</td>\n",
       "      <td>-58.489973</td>\n",
       "      <td>120000.00</td>\n",
       "      <td>40.0</td>\n",
       "      <td>42.0</td>\n",
       "      <td>3000.000000</td>\n",
       "      <td>NaN</td>\n",
       "      <td>2.0</td>\n",
       "      <td>1000.0</td>\n",
       "      <td>https://www.properati.com.ar/1k1ko_venta_departamento_villa-pueyrredon_solano-lopez_2400_balcon_luminoso_garage_dueno-directo_c4o</td>\n",
       "      <td>AGRONOMIA</td>\n",
       "      <td>15.0</td>\n",
       "    </tr>\n",
       "    <tr>\n",
       "      <th>7808</th>\n",
       "      <td>2017-11-15</td>\n",
       "      <td>sell</td>\n",
       "      <td>apartment</td>\n",
       "      <td>|Argentina|Capital Federal|Velez Sarsfield|</td>\n",
       "      <td>-34.630566,-58.498083</td>\n",
       "      <td>-34.630566</td>\n",
       "      <td>-58.498083</td>\n",
       "      <td>200000.00</td>\n",
       "      <td>89.0</td>\n",
       "      <td>186.0</td>\n",
       "      <td>2247.191011</td>\n",
       "      <td>NaN</td>\n",
       "      <td>3.0</td>\n",
       "      <td>NaN</td>\n",
       "      <td>https://www.properati.com.ar/1i5hq_venta_ph_velez-sarsfield_balcon_hidromasaje_lavadero_parrilla_terraza_vestidor_luminoso_re-max-premium-ii</td>\n",
       "      <td>VELEZ SARSFIELD</td>\n",
       "      <td>10.0</td>\n",
       "    </tr>\n",
       "    <tr>\n",
       "      <th>9085</th>\n",
       "      <td>2018-01-20</td>\n",
       "      <td>sell</td>\n",
       "      <td>apartment</td>\n",
       "      <td>|Argentina|Capital Federal|Retiro|</td>\n",
       "      <td>-34.596547,-58.380597</td>\n",
       "      <td>-34.596547</td>\n",
       "      <td>-58.380597</td>\n",
       "      <td>105000.00</td>\n",
       "      <td>46.0</td>\n",
       "      <td>47.0</td>\n",
       "      <td>2282.608696</td>\n",
       "      <td>NaN</td>\n",
       "      <td>2.0</td>\n",
       "      <td>NaN</td>\n",
       "      <td>https://www.properati.com.ar/1ju0a_venta_departamento_retiro_toilette_doble-circulacion_subte-linea-d_subte-linea-b_subte-linea-h_subte-linea-c_re-max-zafiro</td>\n",
       "      <td>RETIRO</td>\n",
       "      <td>1.0</td>\n",
       "    </tr>\n",
       "    <tr>\n",
       "      <th>...</th>\n",
       "      <td>...</td>\n",
       "      <td>...</td>\n",
       "      <td>...</td>\n",
       "      <td>...</td>\n",
       "      <td>...</td>\n",
       "      <td>...</td>\n",
       "      <td>...</td>\n",
       "      <td>...</td>\n",
       "      <td>...</td>\n",
       "      <td>...</td>\n",
       "      <td>...</td>\n",
       "      <td>...</td>\n",
       "      <td>...</td>\n",
       "      <td>...</td>\n",
       "      <td>...</td>\n",
       "      <td>...</td>\n",
       "      <td>...</td>\n",
       "    </tr>\n",
       "    <tr>\n",
       "      <th>12458</th>\n",
       "      <td>2017-10-18</td>\n",
       "      <td>sell</td>\n",
       "      <td>house</td>\n",
       "      <td>|Argentina|Capital Federal|Flores|</td>\n",
       "      <td>-34.65008644,-58.4599456499</td>\n",
       "      <td>-34.650086</td>\n",
       "      <td>-58.459946</td>\n",
       "      <td>350000.00</td>\n",
       "      <td>225.0</td>\n",
       "      <td>475.0</td>\n",
       "      <td>1555.555556</td>\n",
       "      <td>NaN</td>\n",
       "      <td>3.0</td>\n",
       "      <td>NaN</td>\n",
       "      <td>https://www.properati.com.ar/1h2de_venta_casa_flores_pergamino_1900_balcon_patio_luminoso_garage_subte-linea-e_subte-premetro_re-max-urbana</td>\n",
       "      <td>FLORES</td>\n",
       "      <td>7.0</td>\n",
       "    </tr>\n",
       "    <tr>\n",
       "      <th>12485</th>\n",
       "      <td>2017-10-25</td>\n",
       "      <td>sell</td>\n",
       "      <td>PH</td>\n",
       "      <td>|Argentina|Capital Federal|Flores|</td>\n",
       "      <td>-34.64373,-58.459733</td>\n",
       "      <td>-34.643730</td>\n",
       "      <td>-58.459733</td>\n",
       "      <td>179000.00</td>\n",
       "      <td>78.0</td>\n",
       "      <td>111.0</td>\n",
       "      <td>2294.871795</td>\n",
       "      <td>NaN</td>\n",
       "      <td>5.0</td>\n",
       "      <td>NaN</td>\n",
       "      <td>https://www.properati.com.ar/1hdwt_venta_ph_flores_lavadero_patio_terraza_luminoso_subte-linea-e_subte-premetro_re-max-cosmopolita</td>\n",
       "      <td>FLORES</td>\n",
       "      <td>7.0</td>\n",
       "    </tr>\n",
       "    <tr>\n",
       "      <th>12514</th>\n",
       "      <td>2017-11-02</td>\n",
       "      <td>sell</td>\n",
       "      <td>apartment</td>\n",
       "      <td>|Argentina|Capital Federal|Flores|</td>\n",
       "      <td>-34.6225308,-58.4596155</td>\n",
       "      <td>-34.622531</td>\n",
       "      <td>-58.459616</td>\n",
       "      <td>99000.00</td>\n",
       "      <td>41.0</td>\n",
       "      <td>43.0</td>\n",
       "      <td>2414.634146</td>\n",
       "      <td>NaN</td>\n",
       "      <td>1.0</td>\n",
       "      <td>NaN</td>\n",
       "      <td>https://www.properati.com.ar/1hpzc_venta_departamento_flores_lavadero_parrilla_piscina_sum_luminoso_subte-linea-a_campos-propiedades</td>\n",
       "      <td>FLORES</td>\n",
       "      <td>7.0</td>\n",
       "    </tr>\n",
       "    <tr>\n",
       "      <th>12543</th>\n",
       "      <td>2017-11-12</td>\n",
       "      <td>sell</td>\n",
       "      <td>apartment</td>\n",
       "      <td>|Argentina|Capital Federal|Flores|</td>\n",
       "      <td>-34.629309,-58.460051</td>\n",
       "      <td>-34.629309</td>\n",
       "      <td>-58.460051</td>\n",
       "      <td>95000.00</td>\n",
       "      <td>30.0</td>\n",
       "      <td>31.0</td>\n",
       "      <td>3166.666667</td>\n",
       "      <td>NaN</td>\n",
       "      <td>2.0</td>\n",
       "      <td>NaN</td>\n",
       "      <td>https://www.properati.com.ar/1i1nu_venta_departamento_flores_luminoso_garage_impecable_placard_subte-linea-a_re-max-cosmopolita</td>\n",
       "      <td>FLORES</td>\n",
       "      <td>7.0</td>\n",
       "    </tr>\n",
       "    <tr>\n",
       "      <th>12844</th>\n",
       "      <td>2018-01-19</td>\n",
       "      <td>sell</td>\n",
       "      <td>house</td>\n",
       "      <td>|Argentina|Capital Federal|Flores|</td>\n",
       "      <td>-34.63974,-58.456514</td>\n",
       "      <td>-34.639740</td>\n",
       "      <td>-58.456514</td>\n",
       "      <td>114500.00</td>\n",
       "      <td>75.0</td>\n",
       "      <td>98.0</td>\n",
       "      <td>1526.666667</td>\n",
       "      <td>NaN</td>\n",
       "      <td>4.0</td>\n",
       "      <td>NaN</td>\n",
       "      <td>https://www.properati.com.ar/1jp16_venta_casa_flores_patio_subte-linea-e_subte-premetro_re-max-elite</td>\n",
       "      <td>FLORES</td>\n",
       "      <td>7.0</td>\n",
       "    </tr>\n",
       "    <tr>\n",
       "      <th>12889</th>\n",
       "      <td>2018-01-20</td>\n",
       "      <td>sell</td>\n",
       "      <td>apartment</td>\n",
       "      <td>|Argentina|Capital Federal|Flores|</td>\n",
       "      <td>-34.6248656308,-58.4690514032</td>\n",
       "      <td>-34.624866</td>\n",
       "      <td>-58.469051</td>\n",
       "      <td>90000.00</td>\n",
       "      <td>43.0</td>\n",
       "      <td>46.0</td>\n",
       "      <td>2093.023256</td>\n",
       "      <td>NaN</td>\n",
       "      <td>2.0</td>\n",
       "      <td>1100.0</td>\n",
       "      <td>https://www.properati.com.ar/1juwq_venta_departamento_flores_lavadero_placard_subte-linea-a_grupo-mega-stodart</td>\n",
       "      <td>FLORES</td>\n",
       "      <td>7.0</td>\n",
       "    </tr>\n",
       "    <tr>\n",
       "      <th>12943</th>\n",
       "      <td>2018-01-28</td>\n",
       "      <td>sell</td>\n",
       "      <td>house</td>\n",
       "      <td>|Argentina|Capital Federal|Flores|</td>\n",
       "      <td>-34.621727,-58.458649</td>\n",
       "      <td>-34.621727</td>\n",
       "      <td>-58.458649</td>\n",
       "      <td>230000.00</td>\n",
       "      <td>134.0</td>\n",
       "      <td>142.0</td>\n",
       "      <td>1716.417910</td>\n",
       "      <td>NaN</td>\n",
       "      <td>4.0</td>\n",
       "      <td>NaN</td>\n",
       "      <td>https://www.properati.com.ar/1k7ee_venta_casa_flores_parrilla_patio_quincho_terraza_toilette_luminoso_garage_placard_subte-linea-a_re-max-cosmopolita</td>\n",
       "      <td>FLORES</td>\n",
       "      <td>7.0</td>\n",
       "    </tr>\n",
       "    <tr>\n",
       "      <th>13065</th>\n",
       "      <td>2017-09-21</td>\n",
       "      <td>sell</td>\n",
       "      <td>apartment</td>\n",
       "      <td>|Argentina|Capital Federal|Puerto Madero|</td>\n",
       "      <td>-34.6134244,-58.3617815</td>\n",
       "      <td>-34.613424</td>\n",
       "      <td>-58.361781</td>\n",
       "      <td>720000.00</td>\n",
       "      <td>120.0</td>\n",
       "      <td>132.0</td>\n",
       "      <td>6000.000000</td>\n",
       "      <td>NaN</td>\n",
       "      <td>4.0</td>\n",
       "      <td>11000.0</td>\n",
       "      <td>https://www.properati.com.ar/1f91t_venta_departamento_puerto-madero_martha-salotti_300_amenities_dueno-directo_hhz</td>\n",
       "      <td>PUERTO MADERO</td>\n",
       "      <td>1.0</td>\n",
       "    </tr>\n",
       "    <tr>\n",
       "      <th>13654</th>\n",
       "      <td>2017-11-25</td>\n",
       "      <td>sell</td>\n",
       "      <td>apartment</td>\n",
       "      <td>|Argentina|Capital Federal|Villa Urquiza|</td>\n",
       "      <td>-34.5732168457,-58.4732080383</td>\n",
       "      <td>-34.573217</td>\n",
       "      <td>-58.473208</td>\n",
       "      <td>7403868.00</td>\n",
       "      <td>121.0</td>\n",
       "      <td>965.0</td>\n",
       "      <td>61188.991736</td>\n",
       "      <td>3.0</td>\n",
       "      <td>4.0</td>\n",
       "      <td>NaN</td>\n",
       "      <td>https://www.properati.com.ar/1ifig_venta_departamento_villa-urquiza_echeverria_4200_balcon_terraza_luminoso_narvaez-cia-walter-fabian-narvaez-csi-4169</td>\n",
       "      <td>VILLA URQUIZA</td>\n",
       "      <td>12.0</td>\n",
       "    </tr>\n",
       "    <tr>\n",
       "      <th>13655</th>\n",
       "      <td>2017-11-25</td>\n",
       "      <td>sell</td>\n",
       "      <td>apartment</td>\n",
       "      <td>|Argentina|Capital Federal|Villa Urquiza|</td>\n",
       "      <td>-34.5732168457,-58.4732080383</td>\n",
       "      <td>-34.573217</td>\n",
       "      <td>-58.473208</td>\n",
       "      <td>7125061.00</td>\n",
       "      <td>115.0</td>\n",
       "      <td>955.0</td>\n",
       "      <td>61957.052174</td>\n",
       "      <td>3.0</td>\n",
       "      <td>4.0</td>\n",
       "      <td>NaN</td>\n",
       "      <td>https://www.properati.com.ar/1ifin_venta_departamento_villa-urquiza_echeverria_4200_balcon_terraza_luminoso_narvaez-cia-walter-fabian-narvaez-csi-4169</td>\n",
       "      <td>VILLA URQUIZA</td>\n",
       "      <td>12.0</td>\n",
       "    </tr>\n",
       "    <tr>\n",
       "      <th>14246</th>\n",
       "      <td>2018-01-19</td>\n",
       "      <td>sell</td>\n",
       "      <td>house</td>\n",
       "      <td>|Argentina|Capital Federal|Villa Devoto|</td>\n",
       "      <td>-34.611365,-58.509729</td>\n",
       "      <td>-34.611365</td>\n",
       "      <td>-58.509729</td>\n",
       "      <td>320000.00</td>\n",
       "      <td>173.0</td>\n",
       "      <td>182.0</td>\n",
       "      <td>1849.710983</td>\n",
       "      <td>NaN</td>\n",
       "      <td>3.0</td>\n",
       "      <td>NaN</td>\n",
       "      <td>https://www.properati.com.ar/1josp_venta_casa_villa-devoto_baulera_parrilla_patio_terraza_garage_re-max-premium-ii</td>\n",
       "      <td>VILLA DEVOTO</td>\n",
       "      <td>11.0</td>\n",
       "    </tr>\n",
       "    <tr>\n",
       "      <th>14262</th>\n",
       "      <td>2018-01-20</td>\n",
       "      <td>sell</td>\n",
       "      <td>house</td>\n",
       "      <td>|Argentina|Capital Federal|Villa Devoto|</td>\n",
       "      <td>-34.618358,-58.516188</td>\n",
       "      <td>-34.618358</td>\n",
       "      <td>-58.516188</td>\n",
       "      <td>670000.00</td>\n",
       "      <td>280.0</td>\n",
       "      <td>400.0</td>\n",
       "      <td>2392.857143</td>\n",
       "      <td>NaN</td>\n",
       "      <td>7.0</td>\n",
       "      <td>NaN</td>\n",
       "      <td>https://www.properati.com.ar/1ju4v_venta_casa_villa-devoto_balcon_suite_jardin_lavadero_parrilla_patio_piscina_quincho_terraza_toilette_vestidor_luminoso_vista_kitchinete_lujoso_dependencias_garage_doble-circulacion_re-max-uno</td>\n",
       "      <td>VILLA DEVOTO</td>\n",
       "      <td>11.0</td>\n",
       "    </tr>\n",
       "    <tr>\n",
       "      <th>14427</th>\n",
       "      <td>2017-11-09</td>\n",
       "      <td>sell</td>\n",
       "      <td>apartment</td>\n",
       "      <td>|Argentina|Capital Federal|Constitución|</td>\n",
       "      <td>-34.627041,-58.38241</td>\n",
       "      <td>-34.627041</td>\n",
       "      <td>-58.382410</td>\n",
       "      <td>155000.00</td>\n",
       "      <td>92.0</td>\n",
       "      <td>93.0</td>\n",
       "      <td>1684.782609</td>\n",
       "      <td>7.0</td>\n",
       "      <td>3.0</td>\n",
       "      <td>NaN</td>\n",
       "      <td>https://www.properati.com.ar/1hxxu_venta_departamento_constitucion_lavadero_toilette_luminoso_impecable_aire-acondicionado_subte-linea-e_subte-linea-c_apto-credito-hipotecario_re-max-total-v</td>\n",
       "      <td>CONSTITUCION</td>\n",
       "      <td>1.0</td>\n",
       "    </tr>\n",
       "    <tr>\n",
       "      <th>14428</th>\n",
       "      <td>2017-11-09</td>\n",
       "      <td>sell</td>\n",
       "      <td>apartment</td>\n",
       "      <td>|Argentina|Capital Federal|San Telmo|</td>\n",
       "      <td>-34.6249769774,-58.379308628</td>\n",
       "      <td>-34.624977</td>\n",
       "      <td>-58.379309</td>\n",
       "      <td>102399.38</td>\n",
       "      <td>48.0</td>\n",
       "      <td>4435.0</td>\n",
       "      <td>2133.320417</td>\n",
       "      <td>1.0</td>\n",
       "      <td>2.0</td>\n",
       "      <td>NaN</td>\n",
       "      <td>https://www.properati.com.ar/1hz9x_venta_departamento_san-telmo_irigoyen-bernardo-de_1400_lavadero_parrilla_sum_luminoso_garage_amenities_aire-acondicionado_subte-linea-e_subte-linea-c_narvaez-cia-walter-fabian-narvaez-csi-4169</td>\n",
       "      <td>CONSTITUCION</td>\n",
       "      <td>1.0</td>\n",
       "    </tr>\n",
       "    <tr>\n",
       "      <th>15826</th>\n",
       "      <td>2017-09-16</td>\n",
       "      <td>sell</td>\n",
       "      <td>apartment</td>\n",
       "      <td>|Argentina|Capital Federal|Villa del Parque|</td>\n",
       "      <td>-34.6102419,-58.4805853</td>\n",
       "      <td>-34.610242</td>\n",
       "      <td>-58.480585</td>\n",
       "      <td>130000.00</td>\n",
       "      <td>60.0</td>\n",
       "      <td>62.0</td>\n",
       "      <td>2166.666667</td>\n",
       "      <td>NaN</td>\n",
       "      <td>3.0</td>\n",
       "      <td>1660.0</td>\n",
       "      <td>https://www.properati.com.ar/1evsp_venta_departamento_villa-del-parque_pje-jose-ingenieros_2800_balcon_lavadero_luminoso_impecable_estrenar_apto-credito-hipotecario_dueno-directo_hce</td>\n",
       "      <td>VILLA SANTA RITA</td>\n",
       "      <td>11.0</td>\n",
       "    </tr>\n",
       "    <tr>\n",
       "      <th>15867</th>\n",
       "      <td>2017-11-02</td>\n",
       "      <td>sell</td>\n",
       "      <td>apartment</td>\n",
       "      <td>|Argentina|Capital Federal|Villa Santa Rita|</td>\n",
       "      <td>-34.61871,-58.478796</td>\n",
       "      <td>-34.618710</td>\n",
       "      <td>-58.478796</td>\n",
       "      <td>64000.00</td>\n",
       "      <td>35.0</td>\n",
       "      <td>36.0</td>\n",
       "      <td>1828.571429</td>\n",
       "      <td>NaN</td>\n",
       "      <td>1.0</td>\n",
       "      <td>NaN</td>\n",
       "      <td>https://www.properati.com.ar/1hp84_venta_departamento_villa-santa-rita_balcon_parrilla_aire-acondicionado_re-max-data-house</td>\n",
       "      <td>VILLA SANTA RITA</td>\n",
       "      <td>11.0</td>\n",
       "    </tr>\n",
       "    <tr>\n",
       "      <th>16035</th>\n",
       "      <td>2017-12-06</td>\n",
       "      <td>sell</td>\n",
       "      <td>apartment</td>\n",
       "      <td>|Argentina|Capital Federal|Floresta|</td>\n",
       "      <td>-34.6246951,-58.4874458</td>\n",
       "      <td>-34.624695</td>\n",
       "      <td>-58.487446</td>\n",
       "      <td>345000.00</td>\n",
       "      <td>165.0</td>\n",
       "      <td>190.0</td>\n",
       "      <td>2090.909091</td>\n",
       "      <td>NaN</td>\n",
       "      <td>4.0</td>\n",
       "      <td>NaN</td>\n",
       "      <td>https://www.properati.com.ar/1ipss_venta_departamento_floresta_balcon_lavadero_patio_quincho_vista_dependencias_garage_maso-y-cia_5k8</td>\n",
       "      <td>FLORESTA</td>\n",
       "      <td>10.0</td>\n",
       "    </tr>\n",
       "    <tr>\n",
       "      <th>16116</th>\n",
       "      <td>2018-01-27</td>\n",
       "      <td>sell</td>\n",
       "      <td>apartment</td>\n",
       "      <td>|Argentina|Capital Federal|Floresta|</td>\n",
       "      <td>-34.628616,-58.481157</td>\n",
       "      <td>-34.628616</td>\n",
       "      <td>-58.481157</td>\n",
       "      <td>84900.00</td>\n",
       "      <td>40.0</td>\n",
       "      <td>41.0</td>\n",
       "      <td>2122.500000</td>\n",
       "      <td>9.0</td>\n",
       "      <td>2.0</td>\n",
       "      <td>NaN</td>\n",
       "      <td>https://www.properati.com.ar/1k69e_venta_departamento_floresta_luminoso_re-max-elite</td>\n",
       "      <td>FLORESTA</td>\n",
       "      <td>10.0</td>\n",
       "    </tr>\n",
       "    <tr>\n",
       "      <th>16553</th>\n",
       "      <td>2017-11-04</td>\n",
       "      <td>sell</td>\n",
       "      <td>apartment</td>\n",
       "      <td>|Argentina|Capital Federal|Boedo|</td>\n",
       "      <td>-34.626695,-58.416072</td>\n",
       "      <td>-34.626695</td>\n",
       "      <td>-58.416072</td>\n",
       "      <td>180000.00</td>\n",
       "      <td>80.0</td>\n",
       "      <td>81.0</td>\n",
       "      <td>2250.000000</td>\n",
       "      <td>NaN</td>\n",
       "      <td>4.0</td>\n",
       "      <td>NaN</td>\n",
       "      <td>https://www.properati.com.ar/1hrfp_venta_departamento_boedo_toilette_luminoso_aire-acondicionado_subte-linea-e_re-max-urbana</td>\n",
       "      <td>BOEDO</td>\n",
       "      <td>5.0</td>\n",
       "    </tr>\n",
       "    <tr>\n",
       "      <th>16595</th>\n",
       "      <td>2017-12-18</td>\n",
       "      <td>sell</td>\n",
       "      <td>house</td>\n",
       "      <td>|Argentina|Capital Federal|Boedo|</td>\n",
       "      <td>-34.631554,-58.418123</td>\n",
       "      <td>-34.631554</td>\n",
       "      <td>-58.418123</td>\n",
       "      <td>369000.00</td>\n",
       "      <td>260.0</td>\n",
       "      <td>294.0</td>\n",
       "      <td>1419.230769</td>\n",
       "      <td>NaN</td>\n",
       "      <td>6.0</td>\n",
       "      <td>NaN</td>\n",
       "      <td>https://www.properati.com.ar/1j2dw_venta_casa_boedo_balcon_jardin_lavadero_parrilla_patio_terraza_garage_doble-circulacion_subte-linea-e_re-max-liberty</td>\n",
       "      <td>BOEDO</td>\n",
       "      <td>5.0</td>\n",
       "    </tr>\n",
       "    <tr>\n",
       "      <th>17081</th>\n",
       "      <td>2018-01-08</td>\n",
       "      <td>sell</td>\n",
       "      <td>house</td>\n",
       "      <td>|Argentina|Capital Federal|Villa Devoto|</td>\n",
       "      <td>-34.6177835704,-58.5082419614</td>\n",
       "      <td>-34.617784</td>\n",
       "      <td>-58.508242</td>\n",
       "      <td>530000.00</td>\n",
       "      <td>250.0</td>\n",
       "      <td>253.0</td>\n",
       "      <td>2120.000000</td>\n",
       "      <td>NaN</td>\n",
       "      <td>6.0</td>\n",
       "      <td>NaN</td>\n",
       "      <td>https://www.properati.com.ar/1jco2_venta_casa_villa-devoto_maturana-jose-de_4800_jardin_lavadero_terraza_toilette_lujoso_dependencias_garage_placard_re-max-acci-oacute-n</td>\n",
       "      <td>MONTE CASTRO</td>\n",
       "      <td>10.0</td>\n",
       "    </tr>\n",
       "    <tr>\n",
       "      <th>17128</th>\n",
       "      <td>2018-01-20</td>\n",
       "      <td>sell</td>\n",
       "      <td>house</td>\n",
       "      <td>|Argentina|Capital Federal|Villa Devoto|</td>\n",
       "      <td>-34.61691,-58.498013</td>\n",
       "      <td>-34.616910</td>\n",
       "      <td>-58.498013</td>\n",
       "      <td>580000.00</td>\n",
       "      <td>242.0</td>\n",
       "      <td>370.0</td>\n",
       "      <td>2396.694215</td>\n",
       "      <td>NaN</td>\n",
       "      <td>5.0</td>\n",
       "      <td>NaN</td>\n",
       "      <td>https://www.properati.com.ar/1ju90_venta_casa_villa-devoto_lavadero_patio_luminoso_re-max-urbana</td>\n",
       "      <td>MONTE CASTRO</td>\n",
       "      <td>10.0</td>\n",
       "    </tr>\n",
       "    <tr>\n",
       "      <th>17461</th>\n",
       "      <td>2018-01-20</td>\n",
       "      <td>sell</td>\n",
       "      <td>house</td>\n",
       "      <td>|Argentina|Capital Federal|Villa Luro|</td>\n",
       "      <td>-34.645283,-58.491211</td>\n",
       "      <td>-34.645283</td>\n",
       "      <td>-58.491211</td>\n",
       "      <td>455000.00</td>\n",
       "      <td>253.0</td>\n",
       "      <td>350.0</td>\n",
       "      <td>1798.418972</td>\n",
       "      <td>NaN</td>\n",
       "      <td>6.0</td>\n",
       "      <td>NaN</td>\n",
       "      <td>https://www.properati.com.ar/1ju8u_venta_casa_villa-luro_suite_jardin_lavadero_parrilla_patio_sotano_terraza_toilette_luminoso_dependencias_garage_aire-acondicionado_re-max-acci-oacute-n</td>\n",
       "      <td>PARQUE AVELLANEDA</td>\n",
       "      <td>9.0</td>\n",
       "    </tr>\n",
       "    <tr>\n",
       "      <th>17474</th>\n",
       "      <td>2018-01-27</td>\n",
       "      <td>sell</td>\n",
       "      <td>PH</td>\n",
       "      <td>|Argentina|Capital Federal|Parque Avellaneda|</td>\n",
       "      <td>-34.651003,-58.476491</td>\n",
       "      <td>-34.651003</td>\n",
       "      <td>-58.476491</td>\n",
       "      <td>159000.00</td>\n",
       "      <td>150.0</td>\n",
       "      <td>152.0</td>\n",
       "      <td>1060.000000</td>\n",
       "      <td>NaN</td>\n",
       "      <td>3.0</td>\n",
       "      <td>NaN</td>\n",
       "      <td>https://www.properati.com.ar/1k64s_venta_ph_parque-avellaneda_lavadero_patio_terraza_luminoso_re-max-urbana</td>\n",
       "      <td>PARQUE AVELLANEDA</td>\n",
       "      <td>9.0</td>\n",
       "    </tr>\n",
       "    <tr>\n",
       "      <th>17541</th>\n",
       "      <td>2017-10-25</td>\n",
       "      <td>sell</td>\n",
       "      <td>PH</td>\n",
       "      <td>|Argentina|Capital Federal|Villa Lugano|</td>\n",
       "      <td>-34.661829,-58.480414</td>\n",
       "      <td>-34.661829</td>\n",
       "      <td>-58.480414</td>\n",
       "      <td>139000.00</td>\n",
       "      <td>53.0</td>\n",
       "      <td>97.0</td>\n",
       "      <td>2622.641509</td>\n",
       "      <td>NaN</td>\n",
       "      <td>3.0</td>\n",
       "      <td>NaN</td>\n",
       "      <td>https://www.properati.com.ar/1hdws_venta_ph_villa-lugano_patio_terraza_luminoso_garage_re-max-cosmopolita</td>\n",
       "      <td>VILLA LUGANO</td>\n",
       "      <td>8.0</td>\n",
       "    </tr>\n",
       "    <tr>\n",
       "      <th>17731</th>\n",
       "      <td>2018-01-27</td>\n",
       "      <td>sell</td>\n",
       "      <td>house</td>\n",
       "      <td>|Argentina|Capital Federal|Paternal|</td>\n",
       "      <td>-34.589874,-58.468107</td>\n",
       "      <td>-34.589874</td>\n",
       "      <td>-58.468107</td>\n",
       "      <td>290000.00</td>\n",
       "      <td>135.0</td>\n",
       "      <td>156.0</td>\n",
       "      <td>2148.148148</td>\n",
       "      <td>NaN</td>\n",
       "      <td>3.0</td>\n",
       "      <td>NaN</td>\n",
       "      <td>https://www.properati.com.ar/1k622_venta_casa_paternal_terraza_garage_subte-linea-b_re-max-bur-oacute</td>\n",
       "      <td>PATERNAL</td>\n",
       "      <td>15.0</td>\n",
       "    </tr>\n",
       "    <tr>\n",
       "      <th>18003</th>\n",
       "      <td>2017-08-30</td>\n",
       "      <td>sell</td>\n",
       "      <td>house</td>\n",
       "      <td>|Argentina|Capital Federal|Villa Real|</td>\n",
       "      <td>-34.62001,-58.522279</td>\n",
       "      <td>-34.620010</td>\n",
       "      <td>-58.522279</td>\n",
       "      <td>299000.00</td>\n",
       "      <td>100.0</td>\n",
       "      <td>180.0</td>\n",
       "      <td>2990.000000</td>\n",
       "      <td>NaN</td>\n",
       "      <td>6.0</td>\n",
       "      <td>NaN</td>\n",
       "      <td>https://www.properati.com.ar/1e2z7_venta_casa_villa-real_suite_hidromasaje_parrilla_patio_piscina_toilette_vestidor_luminoso_garage_apto-credito-hipotecario_re-max-parque</td>\n",
       "      <td>VILLA REAL</td>\n",
       "      <td>10.0</td>\n",
       "    </tr>\n",
       "    <tr>\n",
       "      <th>18153</th>\n",
       "      <td>2017-12-17</td>\n",
       "      <td>sell</td>\n",
       "      <td>house</td>\n",
       "      <td>|Argentina|Capital Federal|Belgrano|</td>\n",
       "      <td>-34.574536,-58.470279</td>\n",
       "      <td>-34.574536</td>\n",
       "      <td>-58.470279</td>\n",
       "      <td>1340000.00</td>\n",
       "      <td>541.0</td>\n",
       "      <td>650.0</td>\n",
       "      <td>2476.894640</td>\n",
       "      <td>NaN</td>\n",
       "      <td>11.0</td>\n",
       "      <td>NaN</td>\n",
       "      <td>https://www.properati.com.ar/1j210_venta_casa_belgrano_balcon_baulera_suite_jardin_lavadero_piscina_quincho_vestidor_garage_aire-acondicionado_re-max-liberty-ii</td>\n",
       "      <td>VILLA ORTUZAR</td>\n",
       "      <td>15.0</td>\n",
       "    </tr>\n",
       "    <tr>\n",
       "      <th>18694</th>\n",
       "      <td>2017-10-07</td>\n",
       "      <td>sell</td>\n",
       "      <td>apartment</td>\n",
       "      <td>|Argentina|Capital Federal|Coghlan|</td>\n",
       "      <td>-34.5637396,-58.4757468</td>\n",
       "      <td>-34.563740</td>\n",
       "      <td>-58.475747</td>\n",
       "      <td>85000.00</td>\n",
       "      <td>40.0</td>\n",
       "      <td>46.0</td>\n",
       "      <td>2125.000000</td>\n",
       "      <td>NaN</td>\n",
       "      <td>2.0</td>\n",
       "      <td>NaN</td>\n",
       "      <td>https://www.properati.com.ar/1g07v_venta_departamento_coghlan_balcon_lavadero_luminoso_inm-ugarte-propiedades</td>\n",
       "      <td>COGHLAN</td>\n",
       "      <td>12.0</td>\n",
       "    </tr>\n",
       "    <tr>\n",
       "      <th>18765</th>\n",
       "      <td>2018-01-08</td>\n",
       "      <td>sell</td>\n",
       "      <td>apartment</td>\n",
       "      <td>|Argentina|Capital Federal|Belgrano|</td>\n",
       "      <td>-34.561435,-58.467646</td>\n",
       "      <td>-34.561435</td>\n",
       "      <td>-58.467646</td>\n",
       "      <td>95000.00</td>\n",
       "      <td>27.0</td>\n",
       "      <td>28.0</td>\n",
       "      <td>3518.518519</td>\n",
       "      <td>8.0</td>\n",
       "      <td>1.0</td>\n",
       "      <td>NaN</td>\n",
       "      <td>https://www.properati.com.ar/1jc4n_venta_departamento_belgrano_gimnasio_lavadero_piscina_sum_amenities_re-max-ayres</td>\n",
       "      <td>COGHLAN</td>\n",
       "      <td>12.0</td>\n",
       "    </tr>\n",
       "  </tbody>\n",
       "</table>\n",
       "<p>73 rows × 17 columns</p>\n",
       "</div>"
      ],
      "text/plain": [
       "      created_on operation property_type  \\\n",
       "106   2017-09-07      sell         house   \n",
       "153   2017-09-12      sell     apartment   \n",
       "935   2017-11-06      sell     apartment   \n",
       "1174  2017-11-22      sell         house   \n",
       "1176  2017-11-22      sell     apartment   \n",
       "1317  2017-12-05      sell     apartment   \n",
       "1547  2017-12-18      sell     apartment   \n",
       "2300  2018-01-31      sell     apartment   \n",
       "2314  2018-01-31      sell     apartment   \n",
       "4961  2017-12-05      sell     apartment   \n",
       "5012  2017-12-06      sell     apartment   \n",
       "5091  2017-12-31      sell     apartment   \n",
       "5349  2018-01-24      sell     apartment   \n",
       "5800  2018-01-18      sell     apartment   \n",
       "5867  2018-01-27      sell     apartment   \n",
       "5942  2017-09-06      sell         house   \n",
       "6297  2017-12-05      sell         house   \n",
       "6373  2017-12-22      sell     apartment   \n",
       "6519  2018-01-21      sell     apartment   \n",
       "6797  2017-12-13      sell            PH   \n",
       "6799  2017-12-15      sell         house   \n",
       "6806  2017-12-26      sell         house   \n",
       "6846  2018-01-09      sell     apartment   \n",
       "6969  2018-01-31      sell     apartment   \n",
       "7289  2017-10-29      sell     apartment   \n",
       "7310  2017-11-05      sell     apartment   \n",
       "7676  2017-09-16      sell         house   \n",
       "7736  2018-01-23      sell     apartment   \n",
       "7808  2017-11-15      sell     apartment   \n",
       "9085  2018-01-20      sell     apartment   \n",
       "...          ...       ...           ...   \n",
       "12458 2017-10-18      sell         house   \n",
       "12485 2017-10-25      sell            PH   \n",
       "12514 2017-11-02      sell     apartment   \n",
       "12543 2017-11-12      sell     apartment   \n",
       "12844 2018-01-19      sell         house   \n",
       "12889 2018-01-20      sell     apartment   \n",
       "12943 2018-01-28      sell         house   \n",
       "13065 2017-09-21      sell     apartment   \n",
       "13654 2017-11-25      sell     apartment   \n",
       "13655 2017-11-25      sell     apartment   \n",
       "14246 2018-01-19      sell         house   \n",
       "14262 2018-01-20      sell         house   \n",
       "14427 2017-11-09      sell     apartment   \n",
       "14428 2017-11-09      sell     apartment   \n",
       "15826 2017-09-16      sell     apartment   \n",
       "15867 2017-11-02      sell     apartment   \n",
       "16035 2017-12-06      sell     apartment   \n",
       "16116 2018-01-27      sell     apartment   \n",
       "16553 2017-11-04      sell     apartment   \n",
       "16595 2017-12-18      sell         house   \n",
       "17081 2018-01-08      sell         house   \n",
       "17128 2018-01-20      sell         house   \n",
       "17461 2018-01-20      sell         house   \n",
       "17474 2018-01-27      sell            PH   \n",
       "17541 2017-10-25      sell            PH   \n",
       "17731 2018-01-27      sell         house   \n",
       "18003 2017-08-30      sell         house   \n",
       "18153 2017-12-17      sell         house   \n",
       "18694 2017-10-07      sell     apartment   \n",
       "18765 2018-01-08      sell     apartment   \n",
       "\n",
       "                             place_with_parent_names  \\\n",
       "106             |Argentina|Capital Federal|Belgrano|   \n",
       "153              |Argentina|Capital Federal|Palermo|   \n",
       "935              |Argentina|Capital Federal|Palermo|   \n",
       "1174             |Argentina|Capital Federal|Palermo|   \n",
       "1176             |Argentina|Capital Federal|Palermo|   \n",
       "1317             |Argentina|Capital Federal|Palermo|   \n",
       "1547             |Argentina|Capital Federal|Palermo|   \n",
       "2300             |Argentina|Capital Federal|Palermo|   \n",
       "2314             |Argentina|Capital Federal|Palermo|   \n",
       "4961                |Argentina|Capital Federal|Once|   \n",
       "5012              |Argentina|Capital Federal|Abasto|   \n",
       "5091           |Argentina|Capital Federal|Balvanera|   \n",
       "5349           |Argentina|Capital Federal|Balvanera|   \n",
       "5800           |Argentina|Capital Federal|Monserrat|   \n",
       "5867           |Argentina|Capital Federal|Balvanera|   \n",
       "5942        |Argentina|Capital Federal|Villa Crespo|   \n",
       "6297        |Argentina|Capital Federal|Villa Crespo|   \n",
       "6373           |Argentina|Capital Federal|Caballito|   \n",
       "6519        |Argentina|Capital Federal|Villa Crespo|   \n",
       "6797             |Argentina|Capital Federal|Liniers|   \n",
       "6799             |Argentina|Capital Federal|Liniers|   \n",
       "6806             |Argentina|Capital Federal|Liniers|   \n",
       "6846           |Argentina|Capital Federal|Versalles|   \n",
       "6969             |Argentina|Capital Federal|Liniers|   \n",
       "7289         |Argentina|Capital Federal|San Nicolás|   \n",
       "7310         |Argentina|Capital Federal|San Nicolás|   \n",
       "7676           |Argentina|Capital Federal|Agronomía|   \n",
       "7736    |Argentina|Capital Federal|Villa Pueyrredón|   \n",
       "7808     |Argentina|Capital Federal|Velez Sarsfield|   \n",
       "9085              |Argentina|Capital Federal|Retiro|   \n",
       "...                                              ...   \n",
       "12458             |Argentina|Capital Federal|Flores|   \n",
       "12485             |Argentina|Capital Federal|Flores|   \n",
       "12514             |Argentina|Capital Federal|Flores|   \n",
       "12543             |Argentina|Capital Federal|Flores|   \n",
       "12844             |Argentina|Capital Federal|Flores|   \n",
       "12889             |Argentina|Capital Federal|Flores|   \n",
       "12943             |Argentina|Capital Federal|Flores|   \n",
       "13065      |Argentina|Capital Federal|Puerto Madero|   \n",
       "13654      |Argentina|Capital Federal|Villa Urquiza|   \n",
       "13655      |Argentina|Capital Federal|Villa Urquiza|   \n",
       "14246       |Argentina|Capital Federal|Villa Devoto|   \n",
       "14262       |Argentina|Capital Federal|Villa Devoto|   \n",
       "14427       |Argentina|Capital Federal|Constitución|   \n",
       "14428          |Argentina|Capital Federal|San Telmo|   \n",
       "15826   |Argentina|Capital Federal|Villa del Parque|   \n",
       "15867   |Argentina|Capital Federal|Villa Santa Rita|   \n",
       "16035           |Argentina|Capital Federal|Floresta|   \n",
       "16116           |Argentina|Capital Federal|Floresta|   \n",
       "16553              |Argentina|Capital Federal|Boedo|   \n",
       "16595              |Argentina|Capital Federal|Boedo|   \n",
       "17081       |Argentina|Capital Federal|Villa Devoto|   \n",
       "17128       |Argentina|Capital Federal|Villa Devoto|   \n",
       "17461         |Argentina|Capital Federal|Villa Luro|   \n",
       "17474  |Argentina|Capital Federal|Parque Avellaneda|   \n",
       "17541       |Argentina|Capital Federal|Villa Lugano|   \n",
       "17731           |Argentina|Capital Federal|Paternal|   \n",
       "18003         |Argentina|Capital Federal|Villa Real|   \n",
       "18153           |Argentina|Capital Federal|Belgrano|   \n",
       "18694            |Argentina|Capital Federal|Coghlan|   \n",
       "18765           |Argentina|Capital Federal|Belgrano|   \n",
       "\n",
       "                             lat-lon        lat        lon  price_aprox_usd  \\\n",
       "106            -34.566867,-58.444197 -34.566867 -58.444197       1650000.00   \n",
       "153          -34.5830704,-58.4241896 -34.583070 -58.424190        140000.00   \n",
       "935          -34.5869532,-58.4189032 -34.586953 -58.418903        275000.00   \n",
       "1174           -34.583652,-58.444111 -34.583652 -58.444111        930000.00   \n",
       "1176   -34.5821555519,-58.4230147059 -34.582156 -58.423015        297109.32   \n",
       "1317           -34.583175,-58.421452 -34.583175 -58.421452        154000.00   \n",
       "1547           -34.596423,-58.422257 -34.596423 -58.422257        151500.00   \n",
       "2300   -34.5673864513,-58.4321862422 -34.567386 -58.432186        330000.00   \n",
       "2314          -34.5860312,-58.419436 -34.586031 -58.419436        140000.00   \n",
       "4961           -34.601159,-58.398106 -34.601159 -58.398106         88604.07   \n",
       "5012           -34.601013,-58.409113 -34.601013 -58.409113        235000.00   \n",
       "5091           -34.600699,-58.407655 -34.600699 -58.407655         53000.00   \n",
       "5349         -34.6125172,-58.3948187 -34.612517 -58.394819         68500.00   \n",
       "5800             -34.610306,-58.3777 -34.610306 -58.377700        196000.00   \n",
       "5867   -34.6156047978,-58.3915648715 -34.615605 -58.391565        134800.00   \n",
       "5942         -34.6019462,-58.4511617 -34.601946 -58.451162        549000.00   \n",
       "6297           -34.602673,-58.451788 -34.602673 -58.451788        350000.00   \n",
       "6373           -34.605237,-58.455291 -34.605237 -58.455291         89500.00   \n",
       "6519   -34.5963659942,-58.4464294929 -34.596366 -58.446429        198900.00   \n",
       "6797           -34.638822,-58.516273 -34.638822 -58.516273        160000.00   \n",
       "6799         -34.6467129,-58.5286524 -34.646713 -58.528652        330000.00   \n",
       "6806          -34.646191,-58.5212109 -34.646191 -58.521211        290000.00   \n",
       "6846       -34.63315201,-58.51760864 -34.633152 -58.517609         95000.00   \n",
       "6969         -34.6411441,-58.5140068 -34.641144 -58.514007        235000.00   \n",
       "7289             -34.60536,-58.38418 -34.605360 -58.384180         66000.00   \n",
       "7310           -34.601809,-58.390744 -34.601809 -58.390744        119500.00   \n",
       "7676           -34.589358,-58.488743 -34.589358 -58.488743        495000.00   \n",
       "7736         -34.5900008,-58.4899729 -34.590001 -58.489973        120000.00   \n",
       "7808           -34.630566,-58.498083 -34.630566 -58.498083        200000.00   \n",
       "9085           -34.596547,-58.380597 -34.596547 -58.380597        105000.00   \n",
       "...                              ...        ...        ...              ...   \n",
       "12458    -34.65008644,-58.4599456499 -34.650086 -58.459946        350000.00   \n",
       "12485           -34.64373,-58.459733 -34.643730 -58.459733        179000.00   \n",
       "12514        -34.6225308,-58.4596155 -34.622531 -58.459616         99000.00   \n",
       "12543          -34.629309,-58.460051 -34.629309 -58.460051         95000.00   \n",
       "12844           -34.63974,-58.456514 -34.639740 -58.456514        114500.00   \n",
       "12889  -34.6248656308,-58.4690514032 -34.624866 -58.469051         90000.00   \n",
       "12943          -34.621727,-58.458649 -34.621727 -58.458649        230000.00   \n",
       "13065        -34.6134244,-58.3617815 -34.613424 -58.361781        720000.00   \n",
       "13654  -34.5732168457,-58.4732080383 -34.573217 -58.473208       7403868.00   \n",
       "13655  -34.5732168457,-58.4732080383 -34.573217 -58.473208       7125061.00   \n",
       "14246          -34.611365,-58.509729 -34.611365 -58.509729        320000.00   \n",
       "14262          -34.618358,-58.516188 -34.618358 -58.516188        670000.00   \n",
       "14427           -34.627041,-58.38241 -34.627041 -58.382410        155000.00   \n",
       "14428   -34.6249769774,-58.379308628 -34.624977 -58.379309        102399.38   \n",
       "15826        -34.6102419,-58.4805853 -34.610242 -58.480585        130000.00   \n",
       "15867           -34.61871,-58.478796 -34.618710 -58.478796         64000.00   \n",
       "16035        -34.6246951,-58.4874458 -34.624695 -58.487446        345000.00   \n",
       "16116          -34.628616,-58.481157 -34.628616 -58.481157         84900.00   \n",
       "16553          -34.626695,-58.416072 -34.626695 -58.416072        180000.00   \n",
       "16595          -34.631554,-58.418123 -34.631554 -58.418123        369000.00   \n",
       "17081  -34.6177835704,-58.5082419614 -34.617784 -58.508242        530000.00   \n",
       "17128           -34.61691,-58.498013 -34.616910 -58.498013        580000.00   \n",
       "17461          -34.645283,-58.491211 -34.645283 -58.491211        455000.00   \n",
       "17474          -34.651003,-58.476491 -34.651003 -58.476491        159000.00   \n",
       "17541          -34.661829,-58.480414 -34.661829 -58.480414        139000.00   \n",
       "17731          -34.589874,-58.468107 -34.589874 -58.468107        290000.00   \n",
       "18003           -34.62001,-58.522279 -34.620010 -58.522279        299000.00   \n",
       "18153          -34.574536,-58.470279 -34.574536 -58.470279       1340000.00   \n",
       "18694        -34.5637396,-58.4757468 -34.563740 -58.475747         85000.00   \n",
       "18765          -34.561435,-58.467646 -34.561435 -58.467646         95000.00   \n",
       "\n",
       "       surface_total_in_m2  surface_covered_in_m2  price_usd_per_m2  floor  \\\n",
       "106                  455.0                  456.0       3626.373626    NaN   \n",
       "153                   39.0                   44.0       3589.743590    NaN   \n",
       "935                   13.0                   79.0      21153.846154    1.0   \n",
       "1174                 205.0                  343.0       4536.585366    NaN   \n",
       "1176                 117.0                  745.0       2539.395897    7.0   \n",
       "1317                  55.0                   56.0       2800.000000    1.0   \n",
       "1547                  50.0                 4556.0       3030.000000    4.0   \n",
       "2300                  95.0                  100.0       3473.684211    3.0   \n",
       "2314                  55.0                   56.0       2545.454545    NaN   \n",
       "4961                  33.0                  295.0       2684.971818    NaN   \n",
       "5012                 162.0                  185.0       1450.617284    NaN   \n",
       "5091                  19.0                   20.0       2789.473684    NaN   \n",
       "5349                  27.0                   30.0       2537.037037    NaN   \n",
       "5800                 130.0                  131.0       1507.692308    NaN   \n",
       "5867                  50.0                  147.0       2696.000000    NaN   \n",
       "5942                 350.0                  355.0       1568.571429    NaN   \n",
       "6297                 228.0                  350.0       1535.087719    NaN   \n",
       "6373                  32.0                   33.0       2796.875000    NaN   \n",
       "6519                  80.0                 7475.0       2486.250000    4.0   \n",
       "6797                 116.0                  212.0       1379.310345    NaN   \n",
       "6799                 182.0                  196.0       1813.186813    NaN   \n",
       "6806                 114.0                  169.0       2543.859649    NaN   \n",
       "6846                  52.0                   60.0       1826.923077    NaN   \n",
       "6969                  21.0                  150.0      11190.476190    NaN   \n",
       "7289                  32.0                   33.0       2062.500000    NaN   \n",
       "7310                  54.0                   55.0       2212.962963    2.0   \n",
       "7676                 263.0                  302.0       1882.129278    NaN   \n",
       "7736                  40.0                   42.0       3000.000000    NaN   \n",
       "7808                  89.0                  186.0       2247.191011    NaN   \n",
       "9085                  46.0                   47.0       2282.608696    NaN   \n",
       "...                    ...                    ...               ...    ...   \n",
       "12458                225.0                  475.0       1555.555556    NaN   \n",
       "12485                 78.0                  111.0       2294.871795    NaN   \n",
       "12514                 41.0                   43.0       2414.634146    NaN   \n",
       "12543                 30.0                   31.0       3166.666667    NaN   \n",
       "12844                 75.0                   98.0       1526.666667    NaN   \n",
       "12889                 43.0                   46.0       2093.023256    NaN   \n",
       "12943                134.0                  142.0       1716.417910    NaN   \n",
       "13065                120.0                  132.0       6000.000000    NaN   \n",
       "13654                121.0                  965.0      61188.991736    3.0   \n",
       "13655                115.0                  955.0      61957.052174    3.0   \n",
       "14246                173.0                  182.0       1849.710983    NaN   \n",
       "14262                280.0                  400.0       2392.857143    NaN   \n",
       "14427                 92.0                   93.0       1684.782609    7.0   \n",
       "14428                 48.0                 4435.0       2133.320417    1.0   \n",
       "15826                 60.0                   62.0       2166.666667    NaN   \n",
       "15867                 35.0                   36.0       1828.571429    NaN   \n",
       "16035                165.0                  190.0       2090.909091    NaN   \n",
       "16116                 40.0                   41.0       2122.500000    9.0   \n",
       "16553                 80.0                   81.0       2250.000000    NaN   \n",
       "16595                260.0                  294.0       1419.230769    NaN   \n",
       "17081                250.0                  253.0       2120.000000    NaN   \n",
       "17128                242.0                  370.0       2396.694215    NaN   \n",
       "17461                253.0                  350.0       1798.418972    NaN   \n",
       "17474                150.0                  152.0       1060.000000    NaN   \n",
       "17541                 53.0                   97.0       2622.641509    NaN   \n",
       "17731                135.0                  156.0       2148.148148    NaN   \n",
       "18003                100.0                  180.0       2990.000000    NaN   \n",
       "18153                541.0                  650.0       2476.894640    NaN   \n",
       "18694                 40.0                   46.0       2125.000000    NaN   \n",
       "18765                 27.0                   28.0       3518.518519    8.0   \n",
       "\n",
       "       rooms  expenses  \\\n",
       "106      5.0       NaN   \n",
       "153      1.0       NaN   \n",
       "935      4.0       NaN   \n",
       "1174     5.0       NaN   \n",
       "1176     2.0       NaN   \n",
       "1317     3.0       NaN   \n",
       "1547     2.0       NaN   \n",
       "2300     3.0       NaN   \n",
       "2314     3.0    1500.0   \n",
       "4961     1.0       NaN   \n",
       "5012     4.0    6000.0   \n",
       "5091     1.0       NaN   \n",
       "5349     2.0    1000.0   \n",
       "5800     7.0       NaN   \n",
       "5867     2.0       NaN   \n",
       "5942     6.0       NaN   \n",
       "6297    10.0       NaN   \n",
       "6373     1.0       NaN   \n",
       "6519     4.0       NaN   \n",
       "6797     5.0       NaN   \n",
       "6799     5.0       NaN   \n",
       "6806     4.0       NaN   \n",
       "6846     2.0       NaN   \n",
       "6969     4.0       NaN   \n",
       "7289     2.0       NaN   \n",
       "7310     3.0       NaN   \n",
       "7676     6.0       NaN   \n",
       "7736     2.0    1000.0   \n",
       "7808     3.0       NaN   \n",
       "9085     2.0       NaN   \n",
       "...      ...       ...   \n",
       "12458    3.0       NaN   \n",
       "12485    5.0       NaN   \n",
       "12514    1.0       NaN   \n",
       "12543    2.0       NaN   \n",
       "12844    4.0       NaN   \n",
       "12889    2.0    1100.0   \n",
       "12943    4.0       NaN   \n",
       "13065    4.0   11000.0   \n",
       "13654    4.0       NaN   \n",
       "13655    4.0       NaN   \n",
       "14246    3.0       NaN   \n",
       "14262    7.0       NaN   \n",
       "14427    3.0       NaN   \n",
       "14428    2.0       NaN   \n",
       "15826    3.0    1660.0   \n",
       "15867    1.0       NaN   \n",
       "16035    4.0       NaN   \n",
       "16116    2.0       NaN   \n",
       "16553    4.0       NaN   \n",
       "16595    6.0       NaN   \n",
       "17081    6.0       NaN   \n",
       "17128    5.0       NaN   \n",
       "17461    6.0       NaN   \n",
       "17474    3.0       NaN   \n",
       "17541    3.0       NaN   \n",
       "17731    3.0       NaN   \n",
       "18003    6.0       NaN   \n",
       "18153   11.0       NaN   \n",
       "18694    2.0       NaN   \n",
       "18765    1.0       NaN   \n",
       "\n",
       "                                                                                                                                                                                                                             properati_url  \\\n",
       "106                           https://www.properati.com.ar/1ehbq_venta_casa_belgrano_suite_gimnasio_hidromasaje_jardin_lavadero_parrilla_patio_quincho_terraza_toilette_vestidor_luminoso_lujoso_garage_impecable_subte-linea-d_re-max-win   \n",
       "153                                                                                                                        https://www.properati.com.ar/1en9l_venta_departamento_palermo_luminoso_estrenar_subte-linea-d_mavia-propiedades   \n",
       "935                                                                             https://www.properati.com.ar/1htrv_venta_departamento_palermo_scalabrini-ortiz-av-r-_2300_baulera_patio_toilette_dependencias_garage_bengochea-propiedades   \n",
       "1174                                                                                                                   https://www.properati.com.ar/1ibt5_venta_casa_palermo_balcon_lavadero_parrilla_patio_terraza_garage_re-max-total-iv   \n",
       "1176                                                                                                    https://www.properati.com.ar/1ibu1_venta_departamento_palermo_thames_2400_subte-linea-d_narvaez-cia-walter-fabian-narvaez-csi-4169   \n",
       "1317                                                                                            https://www.properati.com.ar/1ila0_venta_departamento_palermo_baulera_lavadero_toilette_luminoso_garage_subte-linea-d_re-max-ra-iacute-ces   \n",
       "1547                                                                                       https://www.properati.com.ar/1j2e5_venta_departamento_palermo_gimnasio_lavadero_parrilla_piscina_sum_sauna_garage_subte-linea-b_re-max-total-ii   \n",
       "2300                                                   https://www.properati.com.ar/1k9zk_venta_departamento_palermo_san-benito-de-palermo_1600_balcon_lavadero_luminoso_dependencias_placard_doble-circulacion_podesta-castro-propiedades   \n",
       "2314                                                                                                                                     https://www.properati.com.ar/1kbgk_venta_departamento_palermo_subte-linea-d_birabel-bienes-raices   \n",
       "4961                                                               https://www.properati.com.ar/1il1e_venta_departamento_once_balcon_lavadero_parrilla_electrogeno_aire-acondicionado_subte-linea-d_subte-linea-b_subte-linea-h_re-max-uno   \n",
       "5012                                                                      https://www.properati.com.ar/1iswf_venta_departamento_abasto_balcon_baulera_lavadero_patio_terraza_dependencias_subte-linea-b_subte-linea-h_gruz-propiedades_gka   \n",
       "5091                                                                                                                   https://www.properati.com.ar/1jalb_venta_departamento_balvanera_luminoso_subte-linea-b_subte-linea-h_re-max-destino   \n",
       "5349                                                                                      https://www.properati.com.ar/1k22b_venta_departamento_balvanera_lavadero_luminoso_subte-linea-a_apto-credito-hipotecario_predial-propiedades_c3a   \n",
       "5800                                                       https://www.properati.com.ar/1jnvu_venta_departamento_monserrat_toilette_luminoso_garage_subte-linea-d_subte-linea-b_subte-linea-a_subte-linea-e_subte-linea-c_re-max-del-plata   \n",
       "5867                                                              https://www.properati.com.ar/1k63k_venta_departamento_balvanera_entre-rios-av-_600_balcon_luminoso_placard_aire-acondicionado_subte-linea-a_subte-linea-e_re-max-total-v   \n",
       "5942                                                                 https://www.properati.com.ar/1ed07_venta_casa_villa-crespo_belaustegui-luis-dr-_500_suite_jardin_lavadero_parrilla_piscina_toilette_vestidor_lexinton-propiedades_937   \n",
       "6297                                                                                                                                                   https://www.properati.com.ar/1il2r_venta_casa_villa-crespo_jardin_re-max-data-house   \n",
       "6373                                                                                                                 https://www.properati.com.ar/1j6yy_venta_departamento_caballito_gimnasio_piscina_luminoso_sauna_amenities_re-max-time   \n",
       "6519                                                                         https://www.properati.com.ar/1k0zl_venta_departamento_villa-crespo_justo-juan-b-av-_2800_balcon_baulera_lavadero_toilette_garage_subte-linea-b_re-max-premium   \n",
       "6797                                                                                                                                   https://www.properati.com.ar/1iylv_venta_ph_villa-luro_balcon_suite_terraza_luminoso_re-max-platino   \n",
       "6799                                                                                                                                               https://www.properati.com.ar/1j16v_venta_casa_liniers_patio_garage_nole-propiedades_cbd   \n",
       "6806                                                              https://www.properati.com.ar/1j8vh_venta_casa_liniers_baulera_parrilla_patio_quincho_terraza_toilette_vestidor_garage_impecable_gustavo-vega-compromiso-inmobiliario_gle   \n",
       "6846                                                                                https://www.properati.com.ar/1jhfo_venta_departamento_versalles_juan-b-justo_9100_lavadero_amoblado_apto-credito-hipotecario_magnacca-e-m-inmobiliaria   \n",
       "6969                                                                                                      https://www.properati.com.ar/1ke9t_venta_departamento_liniers_balcon_lavadero_patio_terraza_toilette_garage_placard_niro-brokers   \n",
       "7289                                                                                                https://www.properati.com.ar/1hlhw_venta_departamento_san-nicolas_subte-linea-d_subte-linea-b_subte-linea-a_subte-linea-c_re-max-plaza   \n",
       "7310                                                                                                        https://www.properati.com.ar/1hte4_venta_departamento_san-nicolas_lavadero_luminoso_subte-linea-d_subte-linea-b_re-max-classic   \n",
       "7676                                                                                 https://www.properati.com.ar/1ewt3_venta_casa_agronomia_suite_jardin_lavadero_parrilla_piscina_quincho_toilette_luminoso_lujoso_garage_re-max-platino   \n",
       "7736                                                                                                     https://www.properati.com.ar/1k1ko_venta_departamento_villa-pueyrredon_solano-lopez_2400_balcon_luminoso_garage_dueno-directo_c4o   \n",
       "7808                                                                                          https://www.properati.com.ar/1i5hq_venta_ph_velez-sarsfield_balcon_hidromasaje_lavadero_parrilla_terraza_vestidor_luminoso_re-max-premium-ii   \n",
       "9085                                                                         https://www.properati.com.ar/1ju0a_venta_departamento_retiro_toilette_doble-circulacion_subte-linea-d_subte-linea-b_subte-linea-h_subte-linea-c_re-max-zafiro   \n",
       "...                                                                                                                                                                                                                                    ...   \n",
       "12458                                                                                          https://www.properati.com.ar/1h2de_venta_casa_flores_pergamino_1900_balcon_patio_luminoso_garage_subte-linea-e_subte-premetro_re-max-urbana   \n",
       "12485                                                                                                   https://www.properati.com.ar/1hdwt_venta_ph_flores_lavadero_patio_terraza_luminoso_subte-linea-e_subte-premetro_re-max-cosmopolita   \n",
       "12514                                                                                                 https://www.properati.com.ar/1hpzc_venta_departamento_flores_lavadero_parrilla_piscina_sum_luminoso_subte-linea-a_campos-propiedades   \n",
       "12543                                                                                                      https://www.properati.com.ar/1i1nu_venta_departamento_flores_luminoso_garage_impecable_placard_subte-linea-a_re-max-cosmopolita   \n",
       "12844                                                                                                                                 https://www.properati.com.ar/1jp16_venta_casa_flores_patio_subte-linea-e_subte-premetro_re-max-elite   \n",
       "12889                                                                                                                       https://www.properati.com.ar/1juwq_venta_departamento_flores_lavadero_placard_subte-linea-a_grupo-mega-stodart   \n",
       "12943                                                                                https://www.properati.com.ar/1k7ee_venta_casa_flores_parrilla_patio_quincho_terraza_toilette_luminoso_garage_placard_subte-linea-a_re-max-cosmopolita   \n",
       "13065                                                                                                                   https://www.properati.com.ar/1f91t_venta_departamento_puerto-madero_martha-salotti_300_amenities_dueno-directo_hhz   \n",
       "13654                                                                               https://www.properati.com.ar/1ifig_venta_departamento_villa-urquiza_echeverria_4200_balcon_terraza_luminoso_narvaez-cia-walter-fabian-narvaez-csi-4169   \n",
       "13655                                                                               https://www.properati.com.ar/1ifin_venta_departamento_villa-urquiza_echeverria_4200_balcon_terraza_luminoso_narvaez-cia-walter-fabian-narvaez-csi-4169   \n",
       "14246                                                                                                                   https://www.properati.com.ar/1josp_venta_casa_villa-devoto_baulera_parrilla_patio_terraza_garage_re-max-premium-ii   \n",
       "14262   https://www.properati.com.ar/1ju4v_venta_casa_villa-devoto_balcon_suite_jardin_lavadero_parrilla_patio_piscina_quincho_terraza_toilette_vestidor_luminoso_vista_kitchinete_lujoso_dependencias_garage_doble-circulacion_re-max-uno   \n",
       "14427                                       https://www.properati.com.ar/1hxxu_venta_departamento_constitucion_lavadero_toilette_luminoso_impecable_aire-acondicionado_subte-linea-e_subte-linea-c_apto-credito-hipotecario_re-max-total-v   \n",
       "14428  https://www.properati.com.ar/1hz9x_venta_departamento_san-telmo_irigoyen-bernardo-de_1400_lavadero_parrilla_sum_luminoso_garage_amenities_aire-acondicionado_subte-linea-e_subte-linea-c_narvaez-cia-walter-fabian-narvaez-csi-4169   \n",
       "15826                                               https://www.properati.com.ar/1evsp_venta_departamento_villa-del-parque_pje-jose-ingenieros_2800_balcon_lavadero_luminoso_impecable_estrenar_apto-credito-hipotecario_dueno-directo_hce   \n",
       "15867                                                                                                          https://www.properati.com.ar/1hp84_venta_departamento_villa-santa-rita_balcon_parrilla_aire-acondicionado_re-max-data-house   \n",
       "16035                                                                                                https://www.properati.com.ar/1ipss_venta_departamento_floresta_balcon_lavadero_patio_quincho_vista_dependencias_garage_maso-y-cia_5k8   \n",
       "16116                                                                                                                                                 https://www.properati.com.ar/1k69e_venta_departamento_floresta_luminoso_re-max-elite   \n",
       "16553                                                                                                         https://www.properati.com.ar/1hrfp_venta_departamento_boedo_toilette_luminoso_aire-acondicionado_subte-linea-e_re-max-urbana   \n",
       "16595                                                                              https://www.properati.com.ar/1j2dw_venta_casa_boedo_balcon_jardin_lavadero_parrilla_patio_terraza_garage_doble-circulacion_subte-linea-e_re-max-liberty   \n",
       "17081                                                            https://www.properati.com.ar/1jco2_venta_casa_villa-devoto_maturana-jose-de_4800_jardin_lavadero_terraza_toilette_lujoso_dependencias_garage_placard_re-max-acci-oacute-n   \n",
       "17128                                                                                                                                     https://www.properati.com.ar/1ju90_venta_casa_villa-devoto_lavadero_patio_luminoso_re-max-urbana   \n",
       "17461                                           https://www.properati.com.ar/1ju8u_venta_casa_villa-luro_suite_jardin_lavadero_parrilla_patio_sotano_terraza_toilette_luminoso_dependencias_garage_aire-acondicionado_re-max-acci-oacute-n   \n",
       "17474                                                                                                                          https://www.properati.com.ar/1k64s_venta_ph_parque-avellaneda_lavadero_patio_terraza_luminoso_re-max-urbana   \n",
       "17541                                                                                                                            https://www.properati.com.ar/1hdws_venta_ph_villa-lugano_patio_terraza_luminoso_garage_re-max-cosmopolita   \n",
       "17731                                                                                                                                https://www.properati.com.ar/1k622_venta_casa_paternal_terraza_garage_subte-linea-b_re-max-bur-oacute   \n",
       "18003                                                           https://www.properati.com.ar/1e2z7_venta_casa_villa-real_suite_hidromasaje_parrilla_patio_piscina_toilette_vestidor_luminoso_garage_apto-credito-hipotecario_re-max-parque   \n",
       "18153                                                                     https://www.properati.com.ar/1j210_venta_casa_belgrano_balcon_baulera_suite_jardin_lavadero_piscina_quincho_vestidor_garage_aire-acondicionado_re-max-liberty-ii   \n",
       "18694                                                                                                                        https://www.properati.com.ar/1g07v_venta_departamento_coghlan_balcon_lavadero_luminoso_inm-ugarte-propiedades   \n",
       "18765                                                                                                                  https://www.properati.com.ar/1jc4n_venta_departamento_belgrano_gimnasio_lavadero_piscina_sum_amenities_re-max-ayres   \n",
       "\n",
       "                  barrio  comuna  \n",
       "106              PALERMO    14.0  \n",
       "153              PALERMO    14.0  \n",
       "935              PALERMO    14.0  \n",
       "1174             PALERMO    14.0  \n",
       "1176             PALERMO    14.0  \n",
       "1317             PALERMO    14.0  \n",
       "1547             PALERMO    14.0  \n",
       "2300             PALERMO    14.0  \n",
       "2314             PALERMO    14.0  \n",
       "4961           BALVANERA     3.0  \n",
       "5012           BALVANERA     3.0  \n",
       "5091           BALVANERA     3.0  \n",
       "5349           BALVANERA     3.0  \n",
       "5800           MONSERRAT     1.0  \n",
       "5867           MONSERRAT     1.0  \n",
       "5942        VILLA CRESPO    15.0  \n",
       "6297        VILLA CRESPO    15.0  \n",
       "6373        VILLA CRESPO    15.0  \n",
       "6519        VILLA CRESPO    15.0  \n",
       "6797             LINIERS     9.0  \n",
       "6799             LINIERS     9.0  \n",
       "6806             LINIERS     9.0  \n",
       "6846             LINIERS     9.0  \n",
       "6969             LINIERS     9.0  \n",
       "7289         SAN NICOLAS     1.0  \n",
       "7310         SAN NICOLAS     1.0  \n",
       "7676           AGRONOMIA    15.0  \n",
       "7736           AGRONOMIA    15.0  \n",
       "7808     VELEZ SARSFIELD    10.0  \n",
       "9085              RETIRO     1.0  \n",
       "...                  ...     ...  \n",
       "12458             FLORES     7.0  \n",
       "12485             FLORES     7.0  \n",
       "12514             FLORES     7.0  \n",
       "12543             FLORES     7.0  \n",
       "12844             FLORES     7.0  \n",
       "12889             FLORES     7.0  \n",
       "12943             FLORES     7.0  \n",
       "13065      PUERTO MADERO     1.0  \n",
       "13654      VILLA URQUIZA    12.0  \n",
       "13655      VILLA URQUIZA    12.0  \n",
       "14246       VILLA DEVOTO    11.0  \n",
       "14262       VILLA DEVOTO    11.0  \n",
       "14427       CONSTITUCION     1.0  \n",
       "14428       CONSTITUCION     1.0  \n",
       "15826   VILLA SANTA RITA    11.0  \n",
       "15867   VILLA SANTA RITA    11.0  \n",
       "16035           FLORESTA    10.0  \n",
       "16116           FLORESTA    10.0  \n",
       "16553              BOEDO     5.0  \n",
       "16595              BOEDO     5.0  \n",
       "17081       MONTE CASTRO    10.0  \n",
       "17128       MONTE CASTRO    10.0  \n",
       "17461  PARQUE AVELLANEDA     9.0  \n",
       "17474  PARQUE AVELLANEDA     9.0  \n",
       "17541       VILLA LUGANO     8.0  \n",
       "17731           PATERNAL    15.0  \n",
       "18003         VILLA REAL    10.0  \n",
       "18153      VILLA ORTUZAR    15.0  \n",
       "18694            COGHLAN    12.0  \n",
       "18765            COGHLAN    12.0  \n",
       "\n",
       "[73 rows x 17 columns]"
      ]
     },
     "execution_count": 37,
     "metadata": {},
     "output_type": "execute_result"
    }
   ],
   "source": [
    "wrong_surface_rows = df_filtered.loc[df_filtered['surface_total_in_m2'] < df_filtered['surface_covered_in_m2']]\n",
    "wrong_surface_rows"
   ]
  },
  {
   "cell_type": "markdown",
   "metadata": {},
   "source": [
    "Proponemos no borrar estas instancias erróneas, sino intercambiar los valores de **superficie total** con **superficie cubierta** en caso de que se cumpla la condición mencionada."
   ]
  },
  {
   "cell_type": "code",
   "execution_count": 39,
   "metadata": {},
   "outputs": [],
   "source": [
    "df_filtered.loc[wrong_surface_rows.index, 'surface_total_in_m2'] = wrong_surface_rows.surface_covered_in_m2\n",
    "df_filtered.loc[wrong_surface_rows.index, 'surface_covered_in_m2'] = wrong_surface_rows.surface_total_in_m2"
   ]
  },
  {
   "cell_type": "markdown",
   "metadata": {},
   "source": [
    "Por otro lado, sucede que las inmobiliarias cuando no cuentan con las coordenadas reales de las propiedades utilizan valores que no son correctos. Por ejemplo, el punto centro de cada barrio o puntos de interés como el Obelisco. Esto puede afectar el análisis relacionado con la ubicación de cada propiedad.\n",
    "\n",
    "Veamos en primer lugar si hay coordenadas que se repiten."
   ]
  },
  {
   "cell_type": "code",
   "execution_count": 40,
   "metadata": {},
   "outputs": [
    {
     "data": {
      "text/plain": [
       "lat         lon       \n",
       "-34.589546  -58.397364    149\n",
       "-34.571150  -58.423297    118\n",
       "-34.562084  -58.456686     77\n",
       "-34.620928  -58.445874     45\n",
       "-34.609821  -58.392606     36\n",
       "-34.597679  -58.443019     31\n",
       "-34.617719  -58.362056     31\n",
       "-34.621184  -58.373116     31\n",
       "-34.610122  -58.405941     31\n",
       "-34.598647  -58.439018     29\n",
       "dtype: int64"
      ]
     },
     "execution_count": 40,
     "metadata": {},
     "output_type": "execute_result"
    }
   ],
   "source": [
    "conteo_puntos = df_filtered.groupby(['lat', 'lon']).size()\n",
    "conteo_puntos[conteo_puntos > 1].sort_values(ascending=False).head(10)"
   ]
  },
  {
   "cell_type": "markdown",
   "metadata": {},
   "source": [
    "Por ejemplo, para el caso del tercer punto, se puede verificar que corresponde a la esquina de Av. Cabildo y Juramento.\n",
    "Nos quedamos entonces con las propiedades con coordenadas que se repitan hasta 5 veces."
   ]
  },
  {
   "cell_type": "code",
   "execution_count": 41,
   "metadata": {},
   "outputs": [],
   "source": [
    "conteo_puntos.name = 'conteo'\n",
    "\n",
    "df_filtered = df_filtered.join(conteo_puntos, on=['lat', 'lon'])\n",
    "\n",
    "df_filtered = df_filtered[df_filtered.conteo <= 5]"
   ]
  },
  {
   "cell_type": "markdown",
   "metadata": {},
   "source": [
    "Eliminamos el atributo `conteo` dado que ya no nos sirve."
   ]
  },
  {
   "cell_type": "code",
   "execution_count": 42,
   "metadata": {},
   "outputs": [],
   "source": [
    "df_filtered.drop('conteo', inplace=True, axis=1)"
   ]
  },
  {
   "cell_type": "markdown",
   "metadata": {},
   "source": [
    "## Estudiando los barrios"
   ]
  },
  {
   "cell_type": "markdown",
   "metadata": {},
   "source": [
    "### Barrios con más edificios y barrios con más casas\n",
    "Al saber qué barrios son los que tienen más cantidad de edificios en venta y cuáles son los que tienen más casas podemos darnos una idea de qué tipo de barrio es. Si es más residencial, con más población, poder adquisitivo, etc. \n",
    "Para eso vamos a empezar calculando los porcentajes de cada tipo de propiedad según el barrio."
   ]
  },
  {
   "cell_type": "code",
   "execution_count": 43,
   "metadata": {},
   "outputs": [],
   "source": [
    "total_propiedades = df_filtered.groupby('barrio')['property_type'].count().values"
   ]
  },
  {
   "cell_type": "code",
   "execution_count": 44,
   "metadata": {},
   "outputs": [],
   "source": [
    "porcentaje_casas_ph = df_filtered[df_filtered.property_type.isin(['PH', 'house'])].groupby('barrio').count().property_type/total_propiedades\n",
    "porcentaje_edificios = df_filtered[df_filtered.property_type == 'apartment'].groupby('barrio').count().property_type/total_propiedades"
   ]
  },
  {
   "cell_type": "code",
   "execution_count": 45,
   "metadata": {},
   "outputs": [
    {
     "name": "stdout",
     "output_type": "stream",
     "text": [
      "Barrios con mayor porcentaje de edificios: \n",
      " barrio\n",
      "PUERTO MADERO    0.995238\n",
      "RETIRO           0.992647\n",
      "SAN NICOLAS      0.989011\n",
      "RECOLETA         0.987342\n",
      "BELGRANO         0.952446\n",
      "Name: property_type, dtype: float64\n",
      "Barrios con mayor porcentaje de casas y phs: \n",
      "  barrio\n",
      "VERSALLES            0.622222\n",
      "MATADEROS            0.612500\n",
      "PARQUE AVELLANEDA    0.560606\n",
      "VILLA RIACHUELO      0.555556\n",
      "VILLA REAL           0.500000\n",
      "Name: property_type, dtype: float64\n"
     ]
    }
   ],
   "source": [
    "print(\"Barrios con mayor porcentaje de edificios: \\n\", porcentaje_edificios.sort_values()[::-1][:5])\n",
    "print(\"Barrios con mayor porcentaje de casas y phs: \\n \", porcentaje_casas_ph.sort_values()[::-1][:5])"
   ]
  },
  {
   "cell_type": "markdown",
   "metadata": {},
   "source": [
    "Para darnos una idea de las diferencias entre los porcentajes de edificios y casas en estos barrios, vamos a graficarlos\n",
    "en forma de torta."
   ]
  },
  {
   "cell_type": "code",
   "execution_count": 46,
   "metadata": {},
   "outputs": [
    {
     "data": {
      "text/plain": [
       "<matplotlib.axes._subplots.AxesSubplot at 0x1e34e524ac8>"
      ]
     },
     "execution_count": 46,
     "metadata": {},
     "output_type": "execute_result"
    },
    {
     "data": {
      "image/png": "[encoded data removed]",
      "text/plain": [
       "<Figure size 1008x504 with 2 Axes>"
      ]
     },
     "metadata": {},
     "output_type": "display_data"
    }
   ],
   "source": [
    "barrios_casas = porcentaje_casas_ph.sort_values()[::-1][:5].index\n",
    "barrios_edificios = porcentaje_edificios.sort_values()[::-1][:5].index\n",
    "fig, axs = plt.subplots(1,2,figsize=(14,7))\n",
    "df_filtered[df_filtered.barrio.isin(barrios_edificios)].property_type.value_counts().plot(x=None,y=None, kind='pie', startangle=30, ax=axs[0],autopct='%1.2f%%')\n",
    "df_filtered[df_filtered.barrio.isin(barrios_casas)].property_type.value_counts().plot(x=None,y=None, kind='pie', ax=axs[1],autopct='%1.2f%%')"
   ]
  },
  {
   "cell_type": "markdown",
   "metadata": {},
   "source": [
    "### Barrios más caros y más baratos"
   ]
  },
  {
   "cell_type": "markdown",
   "metadata": {},
   "source": [
    "Veamos primero la distribución del precio por metro cuadrado para todo el dataset. De esta manera, vamos a remover valores que consideremos extremos.\n",
    "\n",
    "En el siguiente proyecto vamos a volver sobre este tema con más profundidad.\n",
    "\n",
    "**10)** Tomando el atributo `price_usd_per_m2` **calculá** su **mínimo**, **máximo**, **promedio (mean)**, **mediana (median)** y **desvío estándar (std)**"
   ]
  },
  {
   "cell_type": "code",
   "execution_count": 54,
   "metadata": {},
   "outputs": [
    {
     "data": {
      "text/plain": [
       "0.9583333333333334"
      ]
     },
     "execution_count": 54,
     "metadata": {},
     "output_type": "execute_result"
    }
   ],
   "source": [
    "df_filtered['price_usd_per_m2'].min()"
   ]
  },
  {
   "cell_type": "code",
   "execution_count": 56,
   "metadata": {},
   "outputs": [
    {
     "data": {
      "text/plain": [
       "142450.14102564106"
      ]
     },
     "execution_count": 56,
     "metadata": {},
     "output_type": "execute_result"
    }
   ],
   "source": [
    "df_filtered['price_usd_per_m2'].max()"
   ]
  },
  {
   "cell_type": "code",
   "execution_count": 57,
   "metadata": {},
   "outputs": [
    {
     "data": {
      "text/plain": [
       "2785.6551438537067"
      ]
     },
     "execution_count": 57,
     "metadata": {},
     "output_type": "execute_result"
    }
   ],
   "source": [
    "df_filtered['price_usd_per_m2'].mean()"
   ]
  },
  {
   "cell_type": "code",
   "execution_count": 58,
   "metadata": {},
   "outputs": [
    {
     "data": {
      "text/plain": [
       "2588.2352941176473"
      ]
     },
     "execution_count": 58,
     "metadata": {},
     "output_type": "execute_result"
    }
   ],
   "source": [
    "df_filtered['price_usd_per_m2'].median()"
   ]
  },
  {
   "cell_type": "code",
   "execution_count": 59,
   "metadata": {},
   "outputs": [
    {
     "data": {
      "text/plain": [
       "1997.7721743224924"
      ]
     },
     "execution_count": 59,
     "metadata": {},
     "output_type": "execute_result"
    }
   ],
   "source": [
    "df_filtered['price_usd_per_m2'].std()"
   ]
  },
  {
   "cell_type": "markdown",
   "metadata": {},
   "source": [
    "También podemos calcular otros estadísticos como los cuartiles. \n",
    "\n",
    "**11) Mostrá** el **primer y tercer cuartil** y luego también el **rango intercuartilíco**"
   ]
  },
  {
   "cell_type": "code",
   "execution_count": 67,
   "metadata": {},
   "outputs": [
    {
     "data": {
      "text/plain": [
       "2039.2899147309618"
      ]
     },
     "execution_count": 67,
     "metadata": {},
     "output_type": "execute_result"
    }
   ],
   "source": [
    "q1 = df_filtered['price_usd_per_m2'].quantile(.25)\n",
    "q1"
   ]
  },
  {
   "cell_type": "code",
   "execution_count": 68,
   "metadata": {},
   "outputs": [
    {
     "data": {
      "text/plain": [
       "3203.982563899346"
      ]
     },
     "execution_count": 68,
     "metadata": {},
     "output_type": "execute_result"
    }
   ],
   "source": [
    "q3 = df_filtered['price_usd_per_m2'].quantile(.75)\n",
    "q3"
   ]
  },
  {
   "cell_type": "code",
   "execution_count": 69,
   "metadata": {},
   "outputs": [
    {
     "data": {
      "text/plain": [
       "1164.6926491683844"
      ]
     },
     "execution_count": 69,
     "metadata": {},
     "output_type": "execute_result"
    }
   ],
   "source": [
    "IQR = q3-q1\n",
    "IQR"
   ]
  },
  {
   "cell_type": "markdown",
   "metadata": {},
   "source": [
    "### Quitando valores extremos\n",
    "Eliminemos aquellas observaciones cuyo precio por metro cuadrado este fuera de los percentiles 10 y 90. De este modo intentaremos remover valores extremos de una manera sencilla para tener un análisis más robusto."
   ]
  },
  {
   "cell_type": "code",
   "execution_count": 70,
   "metadata": {},
   "outputs": [],
   "source": [
    "p10 = np.percentile(df_filtered.price_usd_per_m2, 10)\n",
    "p90 = np.percentile(df_filtered.price_usd_per_m2, 90)\n",
    "df_filtered = df_filtered[(df_filtered.price_usd_per_m2 >= p10) & (df_filtered.price_usd_per_m2 <= p90)]"
   ]
  },
  {
   "cell_type": "markdown",
   "metadata": {},
   "source": [
    "A partir de quitar estos valores van a cambiar los estadísticos que calculamos.\n",
    "\n",
    "**12) Volvé a calcular** los mismos estadísticos (min, max, promedio, etc) para ver los cambios.\n",
    "¿Por qué será que la **mediana** no cambia?"
   ]
  },
  {
   "cell_type": "code",
   "execution_count": 73,
   "metadata": {},
   "outputs": [
    {
     "data": {
      "text/plain": [
       "1552.9411764705883"
      ]
     },
     "execution_count": 73,
     "metadata": {},
     "output_type": "execute_result"
    }
   ],
   "source": [
    "df_filtered['price_usd_per_m2'].min()\n",
    "\n"
   ]
  },
  {
   "cell_type": "code",
   "execution_count": 74,
   "metadata": {},
   "outputs": [
    {
     "data": {
      "text/plain": [
       "4095.890410958904"
      ]
     },
     "execution_count": 74,
     "metadata": {},
     "output_type": "execute_result"
    }
   ],
   "source": [
    "df_filtered['price_usd_per_m2'].max()\n",
    "\n"
   ]
  },
  {
   "cell_type": "code",
   "execution_count": 75,
   "metadata": {},
   "outputs": [
    {
     "data": {
      "text/plain": [
       "2632.2125686918466"
      ]
     },
     "execution_count": 75,
     "metadata": {},
     "output_type": "execute_result"
    }
   ],
   "source": [
    "df_filtered['price_usd_per_m2'].mean()\n"
   ]
  },
  {
   "cell_type": "code",
   "execution_count": 76,
   "metadata": {},
   "outputs": [
    {
     "data": {
      "text/plain": [
       "2588.2352941176473"
      ]
     },
     "execution_count": 76,
     "metadata": {},
     "output_type": "execute_result"
    }
   ],
   "source": [
    "\n",
    "df_filtered['price_usd_per_m2'].median()\n"
   ]
  },
  {
   "cell_type": "code",
   "execution_count": 77,
   "metadata": {},
   "outputs": [
    {
     "data": {
      "text/plain": [
       "607.7151385906491"
      ]
     },
     "execution_count": 77,
     "metadata": {},
     "output_type": "execute_result"
    }
   ],
   "source": [
    "\n",
    "df_filtered['price_usd_per_m2'].std()"
   ]
  },
  {
   "cell_type": "markdown",
   "metadata": {},
   "source": [
    "Vamos a graficar ahora los barrios según el precio por metro cuadrado."
   ]
  },
  {
   "cell_type": "code",
   "execution_count": 78,
   "metadata": {},
   "outputs": [
    {
     "name": "stderr",
     "output_type": "stream",
     "text": [
      "C:\\Users\\Matias\\Anaconda3\\lib\\site-packages\\scipy\\stats\\stats.py:1713: FutureWarning: Using a non-tuple sequence for multidimensional indexing is deprecated; use `arr[tuple(seq)]` instead of `arr[seq]`. In the future this will be interpreted as an array index, `arr[np.array(seq)]`, which will result either in an error or a different result.\n",
      "  return np.add.reduce(sorted[indexer] * weights, axis=axis) / sumval\n"
     ]
    },
    {
     "data": {
      "image/png": "[encoded data removed]",
      "text/plain": [
       "<Figure size 864x576 with 1 Axes>"
      ]
     },
     "metadata": {
      "needs_background": "light"
     },
     "output_type": "display_data"
    }
   ],
   "source": [
    "plt.xticks(rotation = 90)\n",
    "barrios = df_filtered.groupby('barrio').mean().sort_values('price_usd_per_m2', ascending=False).index\n",
    "sns.barplot(x=\"barrio\", y=\"price_usd_per_m2\", order=barrios, data=df_filtered);"
   ]
  },
  {
   "cell_type": "markdown",
   "metadata": {},
   "source": [
    "#### Más caros"
   ]
  },
  {
   "cell_type": "code",
   "execution_count": 79,
   "metadata": {},
   "outputs": [
    {
     "data": {
      "text/html": [
       "<div>\n",
       "<style scoped>\n",
       "    .dataframe tbody tr th:only-of-type {\n",
       "        vertical-align: middle;\n",
       "    }\n",
       "\n",
       "    .dataframe tbody tr th {\n",
       "        vertical-align: top;\n",
       "    }\n",
       "\n",
       "    .dataframe thead th {\n",
       "        text-align: right;\n",
       "    }\n",
       "</style>\n",
       "<table border=\"1\" class=\"dataframe\">\n",
       "  <thead>\n",
       "    <tr style=\"text-align: right;\">\n",
       "      <th></th>\n",
       "      <th>price_usd_per_m2</th>\n",
       "    </tr>\n",
       "    <tr>\n",
       "      <th>barrio</th>\n",
       "      <th></th>\n",
       "    </tr>\n",
       "  </thead>\n",
       "  <tbody>\n",
       "    <tr>\n",
       "      <th>PUERTO MADERO</th>\n",
       "      <td>6156.633183</td>\n",
       "    </tr>\n",
       "    <tr>\n",
       "      <th>PALERMO</th>\n",
       "      <td>3632.057960</td>\n",
       "    </tr>\n",
       "    <tr>\n",
       "      <th>RETIRO</th>\n",
       "      <td>3417.635657</td>\n",
       "    </tr>\n",
       "    <tr>\n",
       "      <th>RECOLETA</th>\n",
       "      <td>3346.748987</td>\n",
       "    </tr>\n",
       "    <tr>\n",
       "      <th>BELGRANO</th>\n",
       "      <td>3338.725206</td>\n",
       "    </tr>\n",
       "  </tbody>\n",
       "</table>\n",
       "</div>"
      ],
      "text/plain": [
       "               price_usd_per_m2\n",
       "barrio                         \n",
       "PUERTO MADERO       6156.633183\n",
       "PALERMO             3632.057960\n",
       "RETIRO              3417.635657\n",
       "RECOLETA            3346.748987\n",
       "BELGRANO            3338.725206"
      ]
     },
     "execution_count": 79,
     "metadata": {},
     "output_type": "execute_result"
    }
   ],
   "source": [
    "table = pd.pivot_table(df, values='price_usd_per_m2', index=['barrio'], aggfunc=np.mean)\n",
    "mas_caros = table.sort_values('price_usd_per_m2', ascending=False).iloc[:5]\n",
    "mas_caros"
   ]
  },
  {
   "cell_type": "markdown",
   "metadata": {},
   "source": [
    "#### Más baratos"
   ]
  },
  {
   "cell_type": "code",
   "execution_count": 80,
   "metadata": {},
   "outputs": [
    {
     "data": {
      "text/html": [
       "<div>\n",
       "<style scoped>\n",
       "    .dataframe tbody tr th:only-of-type {\n",
       "        vertical-align: middle;\n",
       "    }\n",
       "\n",
       "    .dataframe tbody tr th {\n",
       "        vertical-align: top;\n",
       "    }\n",
       "\n",
       "    .dataframe thead th {\n",
       "        text-align: right;\n",
       "    }\n",
       "</style>\n",
       "<table border=\"1\" class=\"dataframe\">\n",
       "  <thead>\n",
       "    <tr style=\"text-align: right;\">\n",
       "      <th></th>\n",
       "      <th>price_usd_per_m2</th>\n",
       "    </tr>\n",
       "    <tr>\n",
       "      <th>barrio</th>\n",
       "      <th></th>\n",
       "    </tr>\n",
       "  </thead>\n",
       "  <tbody>\n",
       "    <tr>\n",
       "      <th>VILLA SOLDATI</th>\n",
       "      <td>920.825753</td>\n",
       "    </tr>\n",
       "    <tr>\n",
       "      <th>VILLA LUGANO</th>\n",
       "      <td>1179.846071</td>\n",
       "    </tr>\n",
       "    <tr>\n",
       "      <th>VILLA RIACHUELO</th>\n",
       "      <td>1274.809950</td>\n",
       "    </tr>\n",
       "    <tr>\n",
       "      <th>PARQUE AVELLANEDA</th>\n",
       "      <td>1386.260577</td>\n",
       "    </tr>\n",
       "    <tr>\n",
       "      <th>NUEVA POMPEYA</th>\n",
       "      <td>1539.235869</td>\n",
       "    </tr>\n",
       "  </tbody>\n",
       "</table>\n",
       "</div>"
      ],
      "text/plain": [
       "                   price_usd_per_m2\n",
       "barrio                             \n",
       "VILLA SOLDATI            920.825753\n",
       "VILLA LUGANO            1179.846071\n",
       "VILLA RIACHUELO         1274.809950\n",
       "PARQUE AVELLANEDA       1386.260577\n",
       "NUEVA POMPEYA           1539.235869"
      ]
     },
     "execution_count": 80,
     "metadata": {},
     "output_type": "execute_result"
    }
   ],
   "source": [
    "table = pd.pivot_table(df, values='price_usd_per_m2', index=['barrio'], aggfunc=np.mean)\n",
    "mas_baratos = table.sort_values('price_usd_per_m2', ascending=True).iloc[:5]\n",
    "mas_baratos"
   ]
  },
  {
   "cell_type": "markdown",
   "metadata": {},
   "source": [
    "## Graficando propiedades de los barrios\n",
    "\n",
    "Ahora que ya sabemos cuales son los barrios más caros y cuales son los más baratos vamos a ver algunas comparaciones gráficas para entender mejor sus diferencias en diferentes atributos del dataset. Vamos a ver las distribuciones según:\n",
    "- Superficie total en m2\n",
    "- Cuartos totales \n",
    "- Precio en dolares por m2"
   ]
  },
  {
   "cell_type": "code",
   "execution_count": 81,
   "metadata": {},
   "outputs": [],
   "source": [
    "barrios_caros = mas_caros.index \n",
    "barrios_baratos = mas_baratos.index"
   ]
  },
  {
   "cell_type": "code",
   "execution_count": 82,
   "metadata": {},
   "outputs": [
    {
     "data": {
      "text/plain": [
       "<matplotlib.legend.Legend at 0x1e357ac3940>"
      ]
     },
     "execution_count": 82,
     "metadata": {},
     "output_type": "execute_result"
    },
    {
     "data": {
      "image/png": "[encoded data removed]",
      "text/plain": [
       "<Figure size 864x576 with 1 Axes>"
      ]
     },
     "metadata": {
      "needs_background": "light"
     },
     "output_type": "display_data"
    }
   ],
   "source": [
    "g = sns.distplot(df_filtered[df_filtered.barrio.isin(barrios_baratos)].surface_total_in_m2, label=\"Barrios baratos\")\n",
    "sns.distplot(df_filtered[df_filtered.barrio.isin(barrios_caros)].surface_total_in_m2, label=\"Barrios caros\")\n",
    "g.set_xlim(0, 400)\n",
    "plt.legend()"
   ]
  },
  {
   "cell_type": "code",
   "execution_count": 83,
   "metadata": {},
   "outputs": [
    {
     "data": {
      "text/plain": [
       "<matplotlib.legend.Legend at 0x1e3578e4908>"
      ]
     },
     "execution_count": 83,
     "metadata": {},
     "output_type": "execute_result"
    },
    {
     "data": {
      "image/png": "[encoded data removed]",
      "text/plain": [
       "<Figure size 864x576 with 1 Axes>"
      ]
     },
     "metadata": {
      "needs_background": "light"
     },
     "output_type": "display_data"
    }
   ],
   "source": [
    "g = sns.distplot(df_filtered[df_filtered.barrio.isin(barrios_baratos)].rooms, label=\"Barrios baratos\")\n",
    "sns.distplot(df_filtered[df_filtered.barrio.isin(barrios_caros)].rooms, label=\"Barrios caros\")\n",
    "g.set_xlim(0, 10)\n",
    "plt.legend()"
   ]
  },
  {
   "cell_type": "code",
   "execution_count": 84,
   "metadata": {},
   "outputs": [
    {
     "data": {
      "text/plain": [
       "<matplotlib.legend.Legend at 0x1e357992710>"
      ]
     },
     "execution_count": 84,
     "metadata": {},
     "output_type": "execute_result"
    },
    {
     "data": {
      "image/png": "[encoded data removed]",
      "text/plain": [
       "<Figure size 864x576 with 1 Axes>"
      ]
     },
     "metadata": {
      "needs_background": "light"
     },
     "output_type": "display_data"
    }
   ],
   "source": [
    "g = sns.distplot(df_filtered[df_filtered.barrio.isin(barrios_baratos)].price_usd_per_m2, label=\"Barrios baratos\")\n",
    "sns.distplot(df_filtered[df_filtered.barrio.isin(barrios_caros)].price_usd_per_m2, label=\"Barrios caros\")\n",
    "plt.legend()"
   ]
  },
  {
   "cell_type": "markdown",
   "metadata": {},
   "source": [
    "### Barrios que quieren ser otros"
   ]
  },
  {
   "cell_type": "markdown",
   "metadata": {},
   "source": [
    "Basado en información de mercado, desde el portal Properati han señalado que las inmobiliarias suelen publicar las propiedades ubicadas en barrios que no necesariamente se corresponden con la ubicación geográfica real. Según mencionan en la nota ([blog)](http://blog.properati.com.ar/barrios-que-quieren-ser-otros/), esto corresponde a una lógica comercial en el corredor norte y a usos y costumbres en zona oeste.\n",
    "\n",
    "Analicemos qué sucede para nuestro dataset."
   ]
  },
  {
   "cell_type": "markdown",
   "metadata": {},
   "source": [
    "Dada la estructura del atributo `place_with_parent_names`, en primer lugar vamos a extraer el campo asociado al barrio publicado para poder comparar con el que surge de la cartografía oficial. Esto lo vamos a agregar en una nueva columna llamada `barrio_publicado`. \n",
    "\n",
    "De este modo, lo que vamos a analizar es como se relacionan las columnas `barrio` y `barrio publicado`. Si efectivamente hay barrios que quieren ser otros, esperaríamos ver propiedades ubicadas en geográficamente en un barrio distinto al que dice la publicación. Por ejemplo, si una propiedad está ubicada (dadas sus coordenadas) en Villa Crespo pero en la publicación dice Palermo, entonces decimos que hay indicios que Villa Crespo quiere ser Palermo.\n",
    "\n",
    "Viendo la estructura de este atributo, podemos notar que se compone por una sequencia de lugares separados por `|`. Por ejemplo, en `|Argentina|Capital Federal|Palermo|` vemos que primero está el país, luego la ciudad, luego el barrio y en algunos casos hay una jerarquía más, relacionado con zonas dentro del barrio (como Palermo Soho dentro de Palermo). \n",
    "\n",
    "De este modo, una estrategia posible para resolver esto es separar las jerarquías por `|` y extraer el elemento asociado al barrio. Por ejemplo, para `|Argentina|Capital Federal|Palermo|` queda `['', 'Argentina', 'Capital Federal', 'Palermo', '']`. Extrayendo el tercer elemento obtendremos el barrio independientemente de si hay lugares luego en la jerarquía. Aquellos que no tengan barrio no serán considerados puesto que estarían ubicados en Capital Federal y no sería informativo.\n",
    "\n",
    "Lo pasamos a mayúsculas y quitamos las tildes para poder comparar con el barrio oficial."
   ]
  },
  {
   "cell_type": "code",
   "execution_count": 85,
   "metadata": {},
   "outputs": [
    {
     "data": {
      "text/plain": [
       "array([5, 6, 4], dtype=int64)"
      ]
     },
     "execution_count": 85,
     "metadata": {},
     "output_type": "execute_result"
    }
   ],
   "source": [
    "df_filtered['place_with_parent_names'].apply(lambda x: len(x.split(\"|\"))).unique()"
   ]
  },
  {
   "cell_type": "markdown",
   "metadata": {},
   "source": [
    "Como algunos tienen 4 elementos, debemos quitarlos."
   ]
  },
  {
   "cell_type": "code",
   "execution_count": 86,
   "metadata": {},
   "outputs": [],
   "source": [
    "split_place_filter = df_filtered['place_with_parent_names'].apply(lambda x: len(x.split(\"|\"))!=4)\n",
    "df_filtered = df_filtered.loc[split_place_filter]"
   ]
  },
  {
   "cell_type": "code",
   "execution_count": 87,
   "metadata": {},
   "outputs": [],
   "source": [
    "df_filtered['barrio_publicado'] = df_filtered['place_with_parent_names'].apply( lambda x: x.split(\"|\")[3].upper())\n",
    "df_filtered['barrio_publicado'] = df_filtered['barrio_publicado'].str.normalize('NFKD').str.encode('ascii', errors='ignore').str.decode('utf-8')"
   ]
  },
  {
   "cell_type": "markdown",
   "metadata": {},
   "source": [
    "Comparemos entonces el barrio publicado con el real. Nos vamos a quedar con aquellas propiedades donde nos coincidan para luego hacer el conteo por barrio."
   ]
  },
  {
   "cell_type": "code",
   "execution_count": 88,
   "metadata": {},
   "outputs": [],
   "source": [
    "barrios_match = (df_filtered['barrio_publicado'] != df_filtered['barrio'])\n",
    "df_filtered_barrio_not_match = df_filtered.loc[barrios_match]"
   ]
  },
  {
   "cell_type": "markdown",
   "metadata": {},
   "source": [
    "Con una tabla de doble entrada podemos identificar para cada barrio cuál es al que más quiere parecerse."
   ]
  },
  {
   "cell_type": "code",
   "execution_count": 89,
   "metadata": {},
   "outputs": [
    {
     "data": {
      "text/plain": [
       "barrio\n",
       "AGRONOMIA                VILLA PUEYRREDON\n",
       "ALMAGRO                         CABALLITO\n",
       "BALVANERA                            ONCE\n",
       "BARRACAS                        SAN TELMO\n",
       "BELGRANO                            NUNEZ\n",
       "BOCA                             BARRACAS\n",
       "BOEDO                             ALMAGRO\n",
       "CABALLITO               PARQUE CENTENARIO\n",
       "CHACARITA                      COLEGIALES\n",
       "COGHLAN                          BELGRANO\n",
       "COLEGIALES                       BELGRANO\n",
       "CONSTITUCION                    SAN TELMO\n",
       "FLORES                          CABALLITO\n",
       "FLORESTA                           FLORES\n",
       "LINIERS                         VERSALLES\n",
       "MATADEROS                      VILLA LURO\n",
       "MONSERRAT                       SAN TELMO\n",
       "MONTE CASTRO                 VILLA DEVOTO\n",
       "NUEVA POMPEYA            PARQUE PATRICIOS\n",
       "NUEZ                                NUNEZ\n",
       "PALERMO                          BELGRANO\n",
       "PARQUE AVELLANEDA                FLORESTA\n",
       "PARQUE CHACABUCO                CABALLITO\n",
       "PARQUE CHAS                 VILLA URQUIZA\n",
       "PARQUE PATRICIOS                    BOEDO\n",
       "PATERNAL                        AGRONOMIA\n",
       "RECOLETA                     BARRIO NORTE\n",
       "RETIRO                           RECOLETA\n",
       "SAAVEDRA                            NUNEZ\n",
       "SAN CRISTOBAL                       BOEDO\n",
       "SAN NICOLAS          CENTRO / MICROCENTRO\n",
       "SAN TELMO                        BARRACAS\n",
       "VELEZ SARSFIELD                  FLORESTA\n",
       "VILLA CRESPO                      PALERMO\n",
       "VILLA DEL PARQUE             VILLA DEVOTO\n",
       "VILLA DEVOTO             VILLA PUEYRREDON\n",
       "VILLA GRAL. MITRE     VILLA GENERAL MITRE\n",
       "VILLA LURO                      VERSALLES\n",
       "VILLA ORTUZAR               VILLA URQUIZA\n",
       "VILLA PUEYRREDON             VILLA DEVOTO\n",
       "VILLA REAL                      VERSALLES\n",
       "VILLA RIACHUELO              VILLA LUGANO\n",
       "VILLA SANTA RITA         VILLA DEL PARQUE\n",
       "VILLA SOLDATI                VILLA LUGANO\n",
       "VILLA URQUIZA                    BELGRANO\n",
       "dtype: object"
      ]
     },
     "execution_count": 89,
     "metadata": {},
     "output_type": "execute_result"
    }
   ],
   "source": [
    "table = pd.crosstab(df_filtered_barrio_not_match.barrio, df_filtered_barrio_not_match.barrio_publicado)\n",
    "table.idxmax(axis=1)"
   ]
  },
  {
   "cell_type": "markdown",
   "metadata": {},
   "source": [
    "Podemos ver entonces que los barrios tienden a querer parecerse a barrios con precio con metro cuadrado más caro. Por ejemplo Villa Crespo con Palermo, Constitución con San Telmo y Villa Urquiza con Belgrano. \n",
    "\n",
    "Por otro lado, vemos también que los barrios suelen querer parecerse a sus barrios vecinos."
   ]
  }
 ],
 "metadata": {
  "kernelspec": {
   "display_name": "Python 3",
   "language": "python",
   "name": "python3"
  },
  "language_info": {
   "codemirror_mode": {
    "name": "ipython",
    "version": 3
   },
   "file_extension": ".py",
   "mimetype": "text/x-python",
   "name": "python",
   "nbconvert_exporter": "python",
   "pygments_lexer": "ipython3",
   "version": "3.7.3"
  }
 },
 "nbformat": 4,
 "nbformat_minor": 2
}
